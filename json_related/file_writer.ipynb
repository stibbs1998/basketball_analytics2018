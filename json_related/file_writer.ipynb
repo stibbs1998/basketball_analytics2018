{
 "cells": [
  {
   "cell_type": "code",
   "execution_count": 1,
   "metadata": {},
   "outputs": [],
   "source": [
    "import json\n",
    "import json_writer as jsw\n",
    "import parser as ps\n",
    "import time as time"
   ]
  },
  {
   "cell_type": "markdown",
   "metadata": {},
   "source": [
    "Load data onto variable name *game1*"
   ]
  },
  {
   "cell_type": "code",
   "execution_count": 2,
   "metadata": {
    "scrolled": true
   },
   "outputs": [
    {
     "name": "stdout",
     "output_type": "stream",
     "text": [
      "Reading in data from  2017101710_nba-gsw_TRACKING.jsonl ...\n",
      "Assigining data to players...\n",
      "organizing xyz and time data...\n",
      "Done with game 0 !\n"
     ]
    }
   ],
   "source": [
    "game1_track = ['2017101710_nba-gsw_TRACKING.jsonl']\n",
    "box1 = ['2017101710_nba-gsw_BOX.json']\n",
    "\n",
    "game1 = ps.sorting(game1_track, box1)"
   ]
  },
  {
   "cell_type": "markdown",
   "metadata": {},
   "source": [
    "Write the data to a JSON File: This data is now pre-organized"
   ]
  },
  {
   "cell_type": "code",
   "execution_count": 3,
   "metadata": {},
   "outputs": [],
   "source": [
    "jsw.writeToJsonFile('./','warriors_data.json',game1)"
   ]
  },
  {
   "cell_type": "markdown",
   "metadata": {},
   "source": [
    "Now test run the data to see if it loads correctly"
   ]
  },
  {
   "cell_type": "code",
   "execution_count": null,
   "metadata": {},
   "outputs": [],
   "source": [
    "time1 = time.time()\n",
    "reader = open('warriors_data.json')\n",
    "data = json.load(reader)\n",
    "reader.close()\n",
    "time2 = time.time()\n",
    "print \"The run time is %.2f s.\" %(time2-time1)"
   ]
  }
 ],
 "metadata": {
  "kernelspec": {
   "display_name": "Python 3",
   "language": "python",
   "name": "python3"
  },
  "language_info": {
   "codemirror_mode": {
    "name": "ipython",
    "version": 3
   },
   "file_extension": ".py",
   "mimetype": "text/x-python",
   "name": "python",
   "nbconvert_exporter": "python",
   "pygments_lexer": "ipython3",
   "version": "3.6.4"
  }
 },
 "nbformat": 4,
 "nbformat_minor": 2
}
