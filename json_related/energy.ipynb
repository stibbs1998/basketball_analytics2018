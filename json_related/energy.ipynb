{
 "cells": [
  {
   "cell_type": "code",
   "execution_count": null,
   "metadata": {},
   "outputs": [],
   "source": [
    "import json\n",
    "import numpy as np\n",
    "import matplotlib.pylab as plt\n",
    "from imageio import imread\n",
    "import parser as prs\n",
    "import nba_functions as nba\n",
    "import matplotlib.cm as cm\n",
    "%matplotlib notebook"
   ]
  },
  {
   "cell_type": "code",
   "execution_count": null,
   "metadata": {},
   "outputs": [],
   "source": [
    "game1 = json.load(open('warriors_game1.json'))"
   ]
  },
  {
   "cell_type": "code",
   "execution_count": null,
   "metadata": {},
   "outputs": [],
   "source": [
    "nba.positional_smoothing(game1)\n",
    "nba.velo_accel_smoothing(game1)\n",
    "nba.mass_warriors(game1)\n",
    "nba.mass_away(game1)\n",
    "nba.velo_accel(game1)\n",
    "nba.smooth_energy(game1)\n",
    "nba.ball_flagger(game1)\n",
    "nba.player_flagger(game1)\n",
    "nba.player_flagger2(game1)"
   ]
  },
  {
   "cell_type": "code",
   "execution_count": null,
   "metadata": {},
   "outputs": [],
   "source": [
    "kdenergy = game1['2017/10/17/HOUGSW/']['homeplayers']['KevinDurant']['work']\n",
    "oc = np.array(game1['2017/10/17/HOUGSW/']['homeplayers']['KevinDurant']['on_court'])\n",
    "len(oc[oc==False])/25/60"
   ]
  },
  {
   "cell_type": "code",
   "execution_count": null,
   "metadata": {},
   "outputs": [],
   "source": [
    "%matplotlib notebook\n",
    "\n",
    "fig, ax1 = plt.subplots(figsize=(7,6))\n",
    "\n",
    "ax2 = ax1.twinx()\n",
    "\n",
    "xticks = []\n",
    "xticklabels = []\n",
    "yticks = []\n",
    "yticklabels = []\n",
    "\n",
    "for i, key in enumerate(game1['2017/10/17/HOUGSW/']['homeplayers'].keys()):\n",
    "    \n",
    "    energy = np.nansum(game1['2017/10/17/HOUGSW/']['homeplayers'][key]['work'])\n",
    "    en_avg = np.nanmean(game1['2017/10/17/HOUGSW/']['homeplayers'][key]['work'])\n",
    "    \n",
    "    oc = np.array(game1['2017/10/17/HOUGSW/']['homeplayers'][key]['on_court'])\n",
    "\n",
    "    \n",
    "    timeplayed = len(oc[oc==False])/25/60\n",
    "\n",
    "    \n",
    "    xticks.append(i)\n",
    "    xticklabels.append(str(key))\n",
    "    \n",
    "    val = None\n",
    "    val1 = None\n",
    "    if i==1:\n",
    "        val1 = 'Avg'\n",
    "        val = 'Sum'\n",
    "    avg = ax1.plot(i,en_avg,'co',markersize = timeplayed/2, label = val1)\n",
    "    sum1 = ax2.plot(i,energy,'mo',markersize = timeplayed/2,  label = val)\n",
    "    \n",
    "    \n",
    "ax1.set_xticks(xticks)\n",
    "ax1.set_xticklabels(xticklabels,rotation = 67)\n",
    "ax2.set_xticks(xticks)\n",
    "ax2.set_xticklabels(xticklabels,rotation = 67)\n",
    "\n",
    "\n",
    "\n",
    "ax1.set_ylabel('Average Work (J)')\n",
    "ax2.set_ylabel(r'Total Work (J $\\cdot 10^{6}$ )')\n",
    "ax2.ticklabel_format(style='sci', axis='y', scilimits=(0,0))\n",
    "\n",
    "ax1.set_title('Work')\n",
    "\n",
    "fig.legend(fancybox=True, shadow=True, ncol=9)\n",
    "props = dict(boxstyle='round', facecolor='aqua', alpha=0.3)\n",
    "ax1.text(0.65, 0.95, 'Golden State Warriors \\nHOU@GSW 2017/10/17', transform=ax1.transAxes, fontsize=8,\n",
    "verticalalignment='top', bbox=props)\n",
    "\n",
    "\n",
    "plt.tight_layout()"
   ]
  },
  {
   "cell_type": "code",
   "execution_count": null,
   "metadata": {},
   "outputs": [],
   "source": []
  }
 ],
 "metadata": {
  "kernelspec": {
   "display_name": "Python 3",
   "language": "python",
   "name": "python3"
  },
  "language_info": {
   "codemirror_mode": {
    "name": "ipython",
    "version": 3
   },
   "file_extension": ".py",
   "mimetype": "text/x-python",
   "name": "python",
   "nbconvert_exporter": "python",
   "pygments_lexer": "ipython3",
   "version": "3.6.4"
  }
 },
 "nbformat": 4,
 "nbformat_minor": 2
}
