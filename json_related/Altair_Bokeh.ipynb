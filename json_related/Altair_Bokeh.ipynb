{
 "cells": [
  {
   "cell_type": "code",
   "execution_count": null,
   "metadata": {},
   "outputs": [],
   "source": [
    "import altair as alt"
   ]
  },
  {
   "cell_type": "code",
   "execution_count": null,
   "metadata": {},
   "outputs": [],
   "source": [
    "from vega_datasets import data\n",
    "\n",
    "cars = data.cars()\n",
    "\n",
    "brush = alt.selection(type='interval', resolve='global')\n",
    "\n",
    "base = alt.Chart(cars).mark_point().encode(\n",
    "    y='Miles_per_Gallon',\n",
    "    color=alt.condition(brush, 'Origin', alt.ColorValue('gray'))\n",
    ").add_selection(\n",
    "    brush\n",
    ").properties(\n",
    "    width=250,\n",
    "    height=250\n",
    ")\n",
    "\n",
    "base.encode(x='Horsepower') | base.encode(x='Acceleration')"
   ]
  },
  {
   "cell_type": "code",
   "execution_count": null,
   "metadata": {},
   "outputs": [],
   "source": [
    "import json as json\n",
    "import nba_functions as nba\n",
    "import numpy as np\n"
   ]
  },
  {
   "cell_type": "code",
   "execution_count": null,
   "metadata": {},
   "outputs": [],
   "source": [
    "game1 = json.load(open('warriors_game1.json'))"
   ]
  },
  {
   "cell_type": "code",
   "execution_count": null,
   "metadata": {},
   "outputs": [],
   "source": [
    "nba.positional_smoothing(game1)\n",
    "nba.velo_accel_smoothing(game1)\n",
    "nba.get_masses(game1)\n",
    "nba.velo_accel(game1)\n",
    "nba.smooth_energy(game1)\n",
    "nba.ball_flagger(game1)\n",
    "nba.player_flagger(game1)\n",
    "nba.player_flagger2(game1)"
   ]
  },
  {
   "cell_type": "code",
   "execution_count": null,
   "metadata": {},
   "outputs": [],
   "source": [
    "game = '2017/10/17/HOUGSW/'\n",
    "\n",
    "x = [] #time (in minutes)\n",
    "y = [] #total energy\n",
    "c = []\n",
    "names = []\n",
    "\n",
    "for team in ['homeplayers','awayplayers']:\n",
    "    \n",
    "    for key in game1[game][team].keys():\n",
    "\n",
    "        if team == 'homeplayers':\n",
    "            c.append(200)\n",
    "        else:\n",
    "            c.append(0)\n",
    "\n",
    "        en = np.array(game1[game][team][key]['work'])\n",
    "        en_no_nan = en[en==en]\n",
    "        energy = np.nansum(en_no_nan[en_no_nan<10000])\n",
    "\n",
    "        oc = np.array(game1[game][team][key]['on_court'])\n",
    "\n",
    "        \n",
    "        timeplayed = len(oc[oc==False])/25/60\n",
    "        y.append(energy/(10**6))\n",
    "        x.append(timeplayed)\n",
    "        names.append(str(key))\n",
    "        \n",
    "    "
   ]
  },
  {
   "cell_type": "code",
   "execution_count": null,
   "metadata": {},
   "outputs": [],
   "source": [
    "from bokeh.io import show, reset_output\n",
    "from bokeh.models import ColumnDataSource, HoverTool, LabelSet\n",
    "from bokeh.plotting import figure\n",
    "\n",
    "\n",
    "reset_output()\n",
    "\n",
    "album_names = names\n",
    "valence = np.array(x)\n",
    "energy = np.array(y)\n",
    "radii =  np.ones(len(x))\n",
    "colors = [\n",
    "    \"#%02x%02x%02x\" % (int(g), int(g), int(g)) for r, g in zip(c,c)\n",
    "]\n",
    "\n",
    "\n",
    "source = ColumnDataSource(data=dict(valence=valence,\n",
    "                                    energy=energy,\n",
    "                                    names=album_names,\n",
    "                                    radii = radii,\n",
    "                                    colors = colors))\n",
    "\n",
    "p = figure(tools=[HoverTool(tooltips=[('Player Name', '@names'),\n",
    "                                      ('Minutes Played', '@valence'),\n",
    "                                      ('Total Work (MJ)', '@energy')])])\n",
    "p.scatter(x='valence', y='energy', radius='radii', fill_color = 'colors',source=source)\n",
    "\n",
    "\n",
    "p.xaxis.axis_label = 'Minutes Played'\n",
    "p.yaxis.axis_label = r'Energy (MJ)'\n",
    "\n",
    "output_file(\"warriors_rockets_game1.html\", title=\"Interactive\")\n",
    "\n",
    "show(p)"
   ]
  },
  {
   "cell_type": "code",
   "execution_count": null,
   "metadata": {},
   "outputs": [],
   "source": []
  }
 ],
 "metadata": {
  "kernelspec": {
   "display_name": "Python 3",
   "language": "python",
   "name": "python3"
  },
  "language_info": {
   "codemirror_mode": {
    "name": "ipython",
    "version": 3
   },
   "file_extension": ".py",
   "mimetype": "text/x-python",
   "name": "python",
   "nbconvert_exporter": "python",
   "pygments_lexer": "ipython3",
   "version": "3.6.4"
  }
 },
 "nbformat": 4,
 "nbformat_minor": 2
}
