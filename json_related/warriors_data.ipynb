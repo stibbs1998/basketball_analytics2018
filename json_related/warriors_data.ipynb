{
 "cells": [
  {
   "cell_type": "markdown",
   "metadata": {},
   "source": [
    "# **Warriors' Notebook**"
   ]
  },
  {
   "cell_type": "markdown",
   "metadata": {},
   "source": [
    "### *First import all needed libraries*"
   ]
  },
  {
   "cell_type": "code",
   "execution_count": null,
   "metadata": {},
   "outputs": [],
   "source": [
    "import numpy as np\n",
    "import matplotlib.pylab as plt\n",
    "from mpl_toolkits.mplot3d import Axes3D\n",
    "import json as json\n",
    "import jsonlines\n",
    "import parser as prs\n",
    "import time as time\n",
    "import nba_functions as nba\n",
    "# import csv"
   ]
  },
  {
   "cell_type": "markdown",
   "metadata": {},
   "source": [
    "### *Import the Data*"
   ]
  },
  {
   "cell_type": "code",
   "execution_count": null,
   "metadata": {},
   "outputs": [],
   "source": [
    "time1 = time.time()\n",
    "reader = open('warriors_game1.json')\n",
    "warriors_data = json.load(reader)\n",
    "reader.close()\n",
    "time2 = time.time()\n",
    "print(\"The run time is %.2f s.\" %(time2-time1))"
   ]
  },
  {
   "cell_type": "markdown",
   "metadata": {},
   "source": [
    "### *Graph the Tracking Data of Players*"
   ]
  },
  {
   "cell_type": "markdown",
   "metadata": {},
   "source": [
    "Warriors"
   ]
  },
  {
   "cell_type": "code",
   "execution_count": null,
   "metadata": {},
   "outputs": [],
   "source": [
    "import numpy as np\n",
    "import matplotlib.pyplot as plt\n",
    "from imageio import imread\n",
    "%matplotlib inline\n",
    "\n",
    "plt.figure(figsize=(12,10))\n",
    "img = imread(\"court.png\")\n",
    "plt.imshow(img,zorder=0, extent = [-54.5,54.5,-31.3,31.3])\n",
    "\n",
    "for key in warriors_data['2017/10/17/HOUGSW/']['homeplayers'].keys():\n",
    "    \n",
    "\n",
    "    x = warriors_data['2017/10/17/HOUGSW/']['homeplayers'][key]['x']\n",
    "    y = warriors_data['2017/10/17/HOUGSW/']['homeplayers'][key]['y']\n",
    "\n",
    "\n",
    "    plt.plot(x,y,linewidth=0.4)\n",
    "plt.xlim(-54,54)  \n",
    "plt.ylim(-31,31)\n",
    "plt.title('Warriors Tracking Game 1')\n",
    "plt.savefig('tracking_warriors.png')"
   ]
  },
  {
   "cell_type": "markdown",
   "metadata": {},
   "source": [
    "Rockets"
   ]
  },
  {
   "cell_type": "code",
   "execution_count": null,
   "metadata": {},
   "outputs": [],
   "source": [
    "plt.figure(figsize=(12,10))\n",
    "img = imread(\"court.png\")\n",
    "plt.imshow(img,zorder=0, extent = [-54.5,54.5,-31.3,31.3])\n",
    "\n",
    "for key in warriors_data['2017/10/17/HOUGSW/']['awayplayers'].keys():\n",
    "    \n",
    "\n",
    "    x = warriors_data['2017/10/17/HOUGSW/']['awayplayers'][key]['x']\n",
    "    y = warriors_data['2017/10/17/HOUGSW/']['awayplayers'][key]['y']\n",
    "\n",
    "\n",
    "    plt.plot(x,y,linewidth=0.2)\n",
    "plt.xlim(-54,54)  \n",
    "plt.ylim(-31,31)\n",
    "# plt.title('Rockets Tracking Game 1')\n",
    "# plt.axis('off')\n",
    "plt.xlabel('x')\n",
    "plt.ylabel('y')\n",
    "plt.savefig('tracking_rockets.png', bbox_inches = 'tight', pad_inches = 0)"
   ]
  },
  {
   "cell_type": "code",
   "execution_count": null,
   "metadata": {
    "scrolled": true
   },
   "outputs": [],
   "source": [
    "warriors_data['2017/10/17/HOUGSW/'].keys()"
   ]
  },
  {
   "cell_type": "code",
   "execution_count": null,
   "metadata": {},
   "outputs": [],
   "source": [
    "len(warriors_data['2017/10/17/HOUGSW/']['gameclock']), len(warriors_data['2017/10/17/HOUGSW/']['homeplayers']['KevinDurant']['x'])"
   ]
  }
 ],
 "metadata": {
  "kernelspec": {
   "display_name": "Python 3",
   "language": "python",
   "name": "python3"
  },
  "language_info": {
   "codemirror_mode": {
    "name": "ipython",
    "version": 3
   },
   "file_extension": ".py",
   "mimetype": "text/x-python",
   "name": "python",
   "nbconvert_exporter": "python",
   "pygments_lexer": "ipython3",
   "version": "3.6.4"
  }
 },
 "nbformat": 4,
 "nbformat_minor": 2
}
