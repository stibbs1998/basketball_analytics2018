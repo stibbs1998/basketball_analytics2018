{
 "cells": [
  {
   "cell_type": "markdown",
   "metadata": {},
   "source": [
    "Had trouble getting zip function to work.... learned it can be called as such (much easier to run!!!)"
   ]
  },
  {
   "cell_type": "code",
   "execution_count": null,
   "metadata": {},
   "outputs": [],
   "source": [
    "a = [[1,2,3],[4,5,6]]\n",
    "\n",
    "zipped = list(zip(*a))\n",
    "x,y, z = zipped"
   ]
  },
  {
   "cell_type": "code",
   "execution_count": null,
   "metadata": {},
   "outputs": [],
   "source": [
    "import json\n",
    "import numpy as np"
   ]
  },
  {
   "cell_type": "code",
   "execution_count": null,
   "metadata": {},
   "outputs": [],
   "source": [
    "reader = open('warriors_game1.json')\n",
    "game1 = json.load(reader)"
   ]
  },
  {
   "cell_type": "code",
   "execution_count": null,
   "metadata": {},
   "outputs": [],
   "source": [
    "swaggyP = game1['2017/10/17/HOUGSW/']['homeplayers']['NickYoung']"
   ]
  },
  {
   "cell_type": "code",
   "execution_count": null,
   "metadata": {},
   "outputs": [],
   "source": [
    "dx = np.subtract(swaggyP['x'][1:], swaggyP['x'][:-1])\n",
    "dy = np.subtract(swaggyP['y'][1:], swaggyP['y'][:-1])\n",
    "\n",
    "dist = np.sqrt(dx**2 + dy**2)"
   ]
  },
  {
   "cell_type": "code",
   "execution_count": null,
   "metadata": {
    "scrolled": true
   },
   "outputs": [],
   "source": [
    "dist[0:20]"
   ]
  },
  {
   "cell_type": "markdown",
   "metadata": {},
   "source": [
    "work on running average of position to 'smooth' out the points"
   ]
  },
  {
   "cell_type": "code",
   "execution_count": null,
   "metadata": {},
   "outputs": [],
   "source": [
    "x = swaggyP['x']\n",
    "y = swaggyP['y']"
   ]
  },
  {
   "cell_type": "code",
   "execution_count": null,
   "metadata": {},
   "outputs": [],
   "source": [
    "from imageio import imread\n",
    "%matplotlib inline\n",
    "\n",
    "plt.figure(figsize=(12,10))\n",
    "img = imread(\"court.png\")\n",
    "plt.imshow(img,zorder=0, extent = [-54.5,54.5,-31.3,31.3])\n",
    "\n",
    "\n",
    "plt.plot(smooth_x,smooth_y,linewidth=0.4)\n",
    "plt.xlim(-54,54)  \n",
    "plt.ylim(-31,31)\n",
    "\n",
    "\n",
    "dt = 0.04\n",
    "da = smooth_dist[:-1]\n",
    "db = smooth_dist[1:]\n",
    "velo = 1/dt * abs(da-db)\n",
    "\n",
    "dista = dist[:-1]\n",
    "distb = dist[1:]\n",
    "\n",
    "velo_real = 1/dt*abs(dista-distb)\n",
    "time = dt*np.linspace(0,len(velo_real),len(velo_real))\n",
    "time_smooth = dt*np.linspace(0,len(velo),len(velo))"
   ]
  },
  {
   "cell_type": "code",
   "execution_count": null,
   "metadata": {},
   "outputs": [],
   "source": [
    "%matplotlib notebook\n",
    "# plt.plot(time,velo_real,'r')\n",
    "plt.figure(figsize=(8,6))\n",
    "plt.plot(time_smooth, velo, 'b')\n",
    "plt.show()"
   ]
  },
  {
   "cell_type": "code",
   "execution_count": null,
   "metadata": {},
   "outputs": [],
   "source": [
    "import numpy as np"
   ]
  },
  {
   "cell_type": "code",
   "execution_count": null,
   "metadata": {},
   "outputs": [],
   "source": [
    "def moving_average(a, n) : #https://stackoverflow.com/questions/14313510/how-to-calculate-moving-average-using-numpy\n",
    "    ret = np.cumsum(a, dtype=float)\n",
    "    ret[n:] = ret[n:] - ret[:-n]\n",
    "    return ret[n - 1:] / n"
   ]
  },
  {
   "cell_type": "code",
   "execution_count": null,
   "metadata": {},
   "outputs": [],
   "source": [
    "new_x = moving_average(x,n=5)\n",
    "new_y = moving_average(y,n=5)"
   ]
  },
  {
   "cell_type": "code",
   "execution_count": null,
   "metadata": {},
   "outputs": [],
   "source": [
    "import matplotlib.pylab as plt\n",
    "%matplotlib notebook\n",
    "plt.figure(figsize = (8,6))\n",
    "plt.plot(x,y,'r')\n",
    "plt.plot(new_x,new_y,'b')\n",
    "plt.show()"
   ]
  },
  {
   "cell_type": "code",
   "execution_count": null,
   "metadata": {},
   "outputs": [],
   "source": [
    "dist = np.sqrt(np.square(new_x)+np.square(new_y))\n",
    "velo = abs(dist[:-1]-dist[1:])/0.04\n",
    "time = 0.04*np.linspace(0,len(velo),len(velo))\n",
    "\n",
    "d_real = np.sqrt(np.square(x)+np.square(y))\n",
    "v_real = abs(d_real[:-1]-d_real[1:])/0.04\n",
    "t_real = 0.04*np.linspace(0,len(v_real),len(v_real))\n",
    "\n",
    "\n",
    "plt.figure()\n",
    "plt.plot(t_real,v_real,'r')\n",
    "plt.plot(time,velo,'b')\n"
   ]
  },
  {
   "cell_type": "code",
   "execution_count": null,
   "metadata": {},
   "outputs": [],
   "source": []
  },
  {
   "cell_type": "code",
   "execution_count": null,
   "metadata": {},
   "outputs": [],
   "source": []
  }
 ],
 "metadata": {
  "kernelspec": {
   "display_name": "Python 3",
   "language": "python",
   "name": "python3"
  },
  "language_info": {
   "codemirror_mode": {
    "name": "ipython",
    "version": 3
   },
   "file_extension": ".py",
   "mimetype": "text/x-python",
   "name": "python",
   "nbconvert_exporter": "python",
   "pygments_lexer": "ipython3",
   "version": "3.6.4"
  }
 },
 "nbformat": 4,
 "nbformat_minor": 2
}
