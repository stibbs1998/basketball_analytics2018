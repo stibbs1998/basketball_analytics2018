{
 "cells": [
  {
   "cell_type": "markdown",
   "metadata": {},
   "source": [
    "Had trouble getting zip function to work.... learned it can be called as such (much easier to run!!!)"
   ]
  },
  {
   "cell_type": "code",
   "execution_count": null,
   "metadata": {},
   "outputs": [],
   "source": [
    "a = [[1,2,3],[4,5,6]]\n",
    "\n",
    "zipped = list(zip(*a))\n",
    "x,y, z = zipped"
   ]
  },
  {
   "cell_type": "markdown",
   "metadata": {},
   "source": [
    "Reading in Warriors Rockets October $17^{th}$ 2017"
   ]
  },
  {
   "cell_type": "code",
   "execution_count": null,
   "metadata": {},
   "outputs": [],
   "source": [
    "import json\n",
    "import numpy as np"
   ]
  },
  {
   "cell_type": "code",
   "execution_count": null,
   "metadata": {},
   "outputs": [],
   "source": [
    "reader = open('warriors_game1.json')\n",
    "game1 = json.load(reader)"
   ]
  },
  {
   "cell_type": "code",
   "execution_count": null,
   "metadata": {},
   "outputs": [],
   "source": [
    "# swaggyP = game1['2017/10/17/HOUGSW/']['homeplayers']['NickYoung']\n",
    "swaggyP = game1['2017/10/17/HOUGSW/']['homeplayers']['KevinDurant']\n"
   ]
  },
  {
   "cell_type": "code",
   "execution_count": null,
   "metadata": {},
   "outputs": [],
   "source": [
    "dx = np.subtract(swaggyP['x'][2:], swaggyP['x'][:-2])\n",
    "dy = np.subtract(swaggyP['y'][2:], swaggyP['y'][:-2])\n",
    "\n",
    "\n",
    "dist = np.sqrt(dx**2 + dy**2)"
   ]
  },
  {
   "cell_type": "code",
   "execution_count": null,
   "metadata": {
    "scrolled": true
   },
   "outputs": [],
   "source": [
    "dist[0:20]"
   ]
  },
  {
   "cell_type": "markdown",
   "metadata": {},
   "source": [
    "work on running average of position to 'smooth' out the points"
   ]
  },
  {
   "cell_type": "code",
   "execution_count": null,
   "metadata": {},
   "outputs": [],
   "source": [
    "x = swaggyP['x']\n",
    "y = swaggyP['y']\n",
    "time = np.linspace(0,len(x),len(x))*0.04"
   ]
  },
  {
   "cell_type": "code",
   "execution_count": null,
   "metadata": {},
   "outputs": [],
   "source": [
    "from imageio import imread\n",
    "import matplotlib.pylab as plt\n",
    "%matplotlib inline\n",
    "\n",
    "plt.figure(figsize=(12,10))\n",
    "img = imread(\"court.png\")\n",
    "plt.imshow(img,zorder=0, extent = [-54.5,54.5,-31.3,31.3])"
   ]
  },
  {
   "cell_type": "code",
   "execution_count": null,
   "metadata": {},
   "outputs": [],
   "source": [
    "def moving_average(a, n) : #https://stackoverflow.com/questions/14313510/how-to-calculate-moving-average-using-numpy\n",
    "    ret = np.cumsum(a, dtype=float)\n",
    "    ret[n:] = ret[n:] - ret[:-n]\n",
    "    return ret[n - 1:] / n"
   ]
  },
  {
   "cell_type": "code",
   "execution_count": null,
   "metadata": {},
   "outputs": [],
   "source": [
    "new_x = moving_average(x,n=5)\n",
    "new_y = moving_average(y,n=5)\n",
    "new_time = time[2:-2]"
   ]
  },
  {
   "cell_type": "code",
   "execution_count": null,
   "metadata": {},
   "outputs": [],
   "source": [
    "dx = new_x[2:]-new_x[:-2]\n",
    "dy = new_y[2:]-new_y[:-2]\n",
    "dist = np.sqrt(np.square(dx)+np.square(dy)) # change in distance is 0.08 seconds apart\n",
    "velo = dist/0.08\n",
    "time_velo = new_time[1:-1]\n",
    "\n",
    "dx, dy, dist, velo, new_x[0],new_x[2]\n",
    "dxx = np.array(x[2:])-np.array(x[:-2])\n",
    "dyy = np.array(y[2:])-np.array(y[:-2])\n",
    "distt = np.sqrt(np.square(dxx)+np.square(dyy))\n",
    "veloo = distt/0.08\n",
    "vt = np.linspace(0,len(veloo),len(veloo))*0.04"
   ]
  },
  {
   "cell_type": "markdown",
   "metadata": {},
   "source": [
    "Plot of Velo w/ outlier data"
   ]
  },
  {
   "cell_type": "code",
   "execution_count": null,
   "metadata": {},
   "outputs": [],
   "source": [
    "import matplotlib.pylab as plt\n",
    "import matplotlib.cm as cm\n",
    "colors = np.random.random(len(time_velo[velo>50]))\n",
    "%matplotlib notebook\n",
    "plt.figure(figsize = (12,10))\n",
    "plt.scatter(time_velo[velo>50],velo[velo>50],c=colors,s=(2/50*velo[velo>50])**2)\n",
    "plt.plot(time_velo,velo,linewidth=0.5)\n",
    "plt.xlabel('Time(s)')\n",
    "plt.ylabel('Velocity (ft/s)')\n",
    "plt.title('Smoothed Velocity Plot w/ Outliers')\n",
    "plt.savefig('smoothed_velo.png')"
   ]
  },
  {
   "cell_type": "code",
   "execution_count": null,
   "metadata": {},
   "outputs": [],
   "source": [
    "high_velos = velo[velo>30]\n",
    "findee = list(velo)\n",
    "for i in high_velos:\n",
    "    print(findee.index(i))\n",
    "    findee[findee.index(i)] = 0"
   ]
  },
  {
   "cell_type": "code",
   "execution_count": null,
   "metadata": {},
   "outputs": [],
   "source": [
    "plt.figure()\n",
    "# plt.plot(vt,veloo,'b')\n",
    "plt.scatter(time_velo,findee,c='r', s=(1/20*np.array(findee))**9)\n",
    "plt.plot(time_velo,findee,'b',linewidth=0.3)"
   ]
  },
  {
   "cell_type": "code",
   "execution_count": null,
   "metadata": {},
   "outputs": [],
   "source": [
    "# new_x[233:245], new_y[233:245], dist[234:245], velo[234:239], \n",
    "x[1673:1685], y[1673:1685], new_x[1673:1685]"
   ]
  },
  {
   "cell_type": "code",
   "execution_count": null,
   "metadata": {},
   "outputs": [],
   "source": [
    "len(new_x)"
   ]
  },
  {
   "cell_type": "code",
   "execution_count": null,
   "metadata": {},
   "outputs": [],
   "source": [
    "x = np.arange(10)\n",
    "ys = [i+x+(i*x)**2 for i in range(10)]\n",
    "\n",
    "colors = cm.rainbow(np.linspace(0, 1, len(ys)))\n",
    "plt.figure()\n",
    "for y, c in zip(ys, colors):\n",
    "    plt.scatter(x, y, color=c)"
   ]
  },
  {
   "cell_type": "code",
   "execution_count": null,
   "metadata": {},
   "outputs": [],
   "source": [
    "time_velo[8514]\n",
    "x[8514]"
   ]
  },
  {
   "cell_type": "code",
   "execution_count": null,
   "metadata": {},
   "outputs": [],
   "source": [
    "y[8514]"
   ]
  },
  {
   "cell_type": "code",
   "execution_count": null,
   "metadata": {},
   "outputs": [],
   "source": []
  }
 ],
 "metadata": {
  "kernelspec": {
   "display_name": "Python 3",
   "language": "python",
   "name": "python3"
  },
  "language_info": {
   "codemirror_mode": {
    "name": "ipython",
    "version": 3
   },
   "file_extension": ".py",
   "mimetype": "text/x-python",
   "name": "python",
   "nbconvert_exporter": "python",
   "pygments_lexer": "ipython3",
   "version": "3.6.4"
  }
 },
 "nbformat": 4,
 "nbformat_minor": 2
}
