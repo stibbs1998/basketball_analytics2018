{
 "cells": [
  {
   "cell_type": "markdown",
   "metadata": {},
   "source": [
    "Had trouble getting zip function to work.... learned it can be called as such (much easier to run!!!)"
   ]
  },
  {
   "cell_type": "code",
   "execution_count": null,
   "metadata": {},
   "outputs": [],
   "source": [
    "a = [[1,2,3],[4,5,6]]\n",
    "\n",
    "zipped = list(zip(*a))\n",
    "x,y, z = zipped"
   ]
  },
  {
   "cell_type": "markdown",
   "metadata": {},
   "source": [
    "Reading in Warriors Rockets October $17^{th}$ 2017"
   ]
  },
  {
   "cell_type": "code",
   "execution_count": null,
   "metadata": {},
   "outputs": [],
   "source": [
    "import json\n",
    "import numpy as np"
   ]
  },
  {
   "cell_type": "code",
   "execution_count": null,
   "metadata": {},
   "outputs": [],
   "source": [
    "reader = open('warriors_game1.json')\n",
    "game1 = json.load(reader)"
   ]
  },
  {
   "cell_type": "code",
   "execution_count": null,
   "metadata": {},
   "outputs": [],
   "source": [
    "swaggyP = game1['2017/10/17/HOUGSW/']['homeplayers']['NickYoung']"
   ]
  },
  {
   "cell_type": "code",
   "execution_count": null,
   "metadata": {},
   "outputs": [],
   "source": [
    "dx = np.subtract(swaggyP['x'][2:], swaggyP['x'][:-2])\n",
    "dy = np.subtract(swaggyP['y'][2:], swaggyP['y'][:-2])\n",
    "\n",
    "\n",
    "dist = np.sqrt(dx**2 + dy**2)"
   ]
  },
  {
   "cell_type": "code",
   "execution_count": null,
   "metadata": {
    "scrolled": true
   },
   "outputs": [],
   "source": [
    "dist[0:20]"
   ]
  },
  {
   "cell_type": "markdown",
   "metadata": {},
   "source": [
    "work on running average of position to 'smooth' out the points"
   ]
  },
  {
   "cell_type": "code",
   "execution_count": null,
   "metadata": {},
   "outputs": [],
   "source": [
    "x = swaggyP['x']\n",
    "y = swaggyP['y']\n",
    "time = np.linspace(0,len(x),len(x))*0.04"
   ]
  },
  {
   "cell_type": "code",
   "execution_count": null,
   "metadata": {},
   "outputs": [],
   "source": [
    "from imageio import imread\n",
    "import matplotlib.pylab as plt\n",
    "%matplotlib inline\n",
    "\n",
    "plt.figure(figsize=(12,10))\n",
    "img = imread(\"court.png\")\n",
    "plt.imshow(img,zorder=0, extent = [-54.5,54.5,-31.3,31.3])"
   ]
  },
  {
   "cell_type": "code",
   "execution_count": null,
   "metadata": {},
   "outputs": [],
   "source": [
    "def moving_average(a, n) : #https://stackoverflow.com/questions/14313510/how-to-calculate-moving-average-using-numpy\n",
    "    ret = np.cumsum(a, dtype=float)\n",
    "    ret[n:] = ret[n:] - ret[:-n]\n",
    "    return ret[n - 1:] / n"
   ]
  },
  {
   "cell_type": "code",
   "execution_count": null,
   "metadata": {},
   "outputs": [],
   "source": [
    "new_x = moving_average(x,n=5)\n",
    "new_y = moving_average(y,n=5)\n",
    "new_time = time[2:-2]"
   ]
  },
  {
   "cell_type": "code",
   "execution_count": null,
   "metadata": {},
   "outputs": [],
   "source": [
    "dx = new_x[2:]-new_x[:-2]\n",
    "dy = new_y[2:]-new_y[:-2]\n",
    "dist = np.sqrt(np.square(dx)+np.square(dy)) # change in distance is 0.08 seconds apart\n",
    "velo = dist/0.08\n",
    "time_velo = new_time[1:-1]\n",
    "\n",
    "# dx, dy, dist, velo, new_x[0],new_x[2]\n",
    "# dxx = np.array(x[2:])-np.array(x[:-2])\n",
    "# dyy = np.array(y[2:])-np.array(y[:-2])\n",
    "# distt = np.sqrt(np.square(dxx)+np.square(dyy))\n",
    "# veloo = distt/0.08\n",
    "# vt = np.linspace(0,len(veloo),len(veloo))*0.04"
   ]
  },
  {
   "cell_type": "code",
   "execution_count": null,
   "metadata": {},
   "outputs": [],
   "source": [
    "import matplotlib.pylab as plt\n",
    "%matplotlib notebook\n",
    "plt.figure()\n",
    "# plt.plot(vt,veloo,'b')\n",
    "plt.plot(time_velo,velo,'r')"
   ]
  },
  {
   "cell_type": "code",
   "execution_count": null,
   "metadata": {},
   "outputs": [],
   "source": [
    "high_velos = velo[velo>30]\n",
    "findee = list(velo)\n",
    "for i in high_velos:\n",
    "    findee[findee.index(i)] = 0"
   ]
  },
  {
   "cell_type": "code",
   "execution_count": null,
   "metadata": {},
   "outputs": [],
   "source": [
    "plt.figure()\n",
    "# plt.plot(vt,veloo,'b')\n",
    "plt.plot(time_velo,findee,'r.',linewidth=0.3)\n",
    "plt.plot(time_velo,findee,'b',linewidth=0.3)"
   ]
  },
  {
   "cell_type": "code",
   "execution_count": null,
   "metadata": {},
   "outputs": [],
   "source": [
    "new_x[233:245], new_y[233:245], dist[234:245], velo[234:239]"
   ]
  },
  {
   "cell_type": "code",
   "execution_count": null,
   "metadata": {},
   "outputs": [],
   "source": [
    "new_y[212:236]"
   ]
  },
  {
   "cell_type": "code",
   "execution_count": null,
   "metadata": {},
   "outputs": [],
   "source": [
    "len(new_x)"
   ]
  },
  {
   "cell_type": "code",
   "execution_count": null,
   "metadata": {},
   "outputs": [],
   "source": [
    "for i in range(0,10):\n",
    "    print(findee[i], findee.index(findee[i]))"
   ]
  }
 ],
 "metadata": {
  "kernelspec": {
   "display_name": "Python 3",
   "language": "python",
   "name": "python3"
  },
  "language_info": {
   "codemirror_mode": {
    "name": "ipython",
    "version": 3
   },
   "file_extension": ".py",
   "mimetype": "text/x-python",
   "name": "python",
   "nbconvert_exporter": "python",
   "pygments_lexer": "ipython3",
   "version": "3.6.4"
  }
 },
 "nbformat": 4,
 "nbformat_minor": 2
}
