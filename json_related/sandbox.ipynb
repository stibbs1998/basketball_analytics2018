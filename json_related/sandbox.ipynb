{
 "cells": [
  {
   "cell_type": "markdown",
   "metadata": {},
   "source": [
    "Had trouble getting zip function to work.... learned it can be called as such (much easier to run!!!)"
   ]
  },
  {
   "cell_type": "code",
   "execution_count": null,
   "metadata": {},
   "outputs": [],
   "source": [
    "a = [[1,2,3],[4,5,6]]\n",
    "\n",
    "zipped = list(zip(*a))\n",
    "x,y, z = zipped"
   ]
  },
  {
   "cell_type": "markdown",
   "metadata": {},
   "source": [
    "Reading in Warriors Rockets October $17^{th}$ 2017"
   ]
  },
  {
   "cell_type": "code",
   "execution_count": 1,
   "metadata": {},
   "outputs": [],
   "source": [
    "import json\n",
    "import numpy as np\n",
    "import nba_functions as nba\n",
    "import matplotlib.pylab as plt"
   ]
  },
  {
   "cell_type": "code",
   "execution_count": null,
   "metadata": {},
   "outputs": [],
   "source": [
    "reader = open('warriors_game1.json')\n",
    "game1 = json.load(reader)"
   ]
  },
  {
   "cell_type": "code",
   "execution_count": null,
   "metadata": {},
   "outputs": [],
   "source": [
    "max(game1['2017/10/17/HOUGSW/']['gameclock'])"
   ]
  },
  {
   "cell_type": "code",
   "execution_count": null,
   "metadata": {},
   "outputs": [],
   "source": [
    "# import nba_functions as nba\n",
    "nba.ball_flagger(game1)\n",
    "nba.player_flagger(game1)\n",
    "nba.player_flagger2(game1)"
   ]
  },
  {
   "cell_type": "code",
   "execution_count": null,
   "metadata": {},
   "outputs": [],
   "source": [
    "ball = np.array(game1['2017/10/17/HOUGSW/']['home_poss'])\n",
    "len(ball[ball==True])/len(ball)*100"
   ]
  },
  {
   "cell_type": "code",
   "execution_count": null,
   "metadata": {},
   "outputs": [],
   "source": [
    "plt.figure()\n",
    "x = np.array(game1['2017/10/17/HOUGSW/']['ballXyz']['x'])\n",
    "y = np.array(game1['2017/10/17/HOUGSW/']['ballXyz']['y'])\n",
    "xx = x[ind]\n",
    "yy = y[ind]\n",
    "plt.plot(xx,yy,'r.')\n",
    "plt.xlim(-50,50)"
   ]
  },
  {
   "cell_type": "code",
   "execution_count": null,
   "metadata": {},
   "outputs": [],
   "source": [
    "dx = np.subtract(player['x'][2:], player['x'][:-2])\n",
    "dy = np.subtract(player['y'][2:], player['y'][:-2])\n",
    "\n",
    "\n",
    "dist = np.sqrt(dx**2 + dy**2)"
   ]
  },
  {
   "cell_type": "code",
   "execution_count": null,
   "metadata": {
    "scrolled": true
   },
   "outputs": [],
   "source": [
    "type(game1['2017/10/17/HOUGSW/']['ballXyz']['x'])"
   ]
  },
  {
   "cell_type": "markdown",
   "metadata": {},
   "source": [
    "work on running average of position to 'smooth' out the points"
   ]
  },
  {
   "cell_type": "code",
   "execution_count": null,
   "metadata": {},
   "outputs": [],
   "source": [
    "x = player['x']\n",
    "y = player['y']\n",
    "time = np.linspace(0,len(x),len(x))*0.04"
   ]
  },
  {
   "cell_type": "code",
   "execution_count": null,
   "metadata": {},
   "outputs": [],
   "source": [
    "from imageio import imread\n",
    "import matplotlib.pylab as plt\n",
    "%matplotlib inline\n",
    "\n",
    "plt.figure(figsize=(12,10))\n",
    "img = imread(\"court.png\")\n",
    "plt.imshow(img,zorder=0, extent = [-54.5,54.5,-31.3,31.3])\n",
    "plt.plot(x,y)"
   ]
  },
  {
   "cell_type": "code",
   "execution_count": null,
   "metadata": {},
   "outputs": [],
   "source": [
    "def moving_average(a, n) : #https://stackoverflow.com/questions/14313510/how-to-calculate-moving-average-using-numpy\n",
    "    ret = np.nancumsum(a, dtype=float)\n",
    "    ret[n:] = ret[n:] - ret[:-n]\n",
    "    return ret[n - 1:] / n"
   ]
  },
  {
   "cell_type": "code",
   "execution_count": null,
   "metadata": {},
   "outputs": [],
   "source": [
    "count = 0\n",
    "false_count = 0\n",
    "on_court = game1['2017/10/17/HOUGSW/']['on_court']\n",
    "for i in range(len(on_court)):\n",
    "    if on_court[i] == True:\n",
    "        count+= 1\n",
    "    else:\n",
    "        false_count +=1 \n",
    "print(\"There are %d points where the clock is stopped.\" %count)"
   ]
  },
  {
   "cell_type": "code",
   "execution_count": null,
   "metadata": {},
   "outputs": [],
   "source": [
    "new_x = moving_average(x,n=5)\n",
    "new_y = moving_average(y,n=5)\n",
    "new_time = time[2:-2]"
   ]
  },
  {
   "cell_type": "code",
   "execution_count": null,
   "metadata": {},
   "outputs": [],
   "source": [
    "dx = new_x[2:]-new_x[:-2]\n",
    "dy = new_y[2:]-new_y[:-2]\n",
    "dist = np.sqrt(np.square(dx)+np.square(dy)) # change in distance is 0.08 seconds apart\n",
    "velo = dist/0.08\n",
    "time_velo = new_time[1:-1]\n",
    "\n",
    "dxx = np.array(x[2:])-np.array(x[:-2])\n",
    "dyy = np.array(y[2:])-np.array(y[:-2])\n",
    "distt = np.sqrt(np.square(dxx)+np.square(dyy))\n",
    "veloo = distt/0.08\n",
    "vt = np.linspace(0,len(veloo),len(veloo))*0.04\n",
    "\n",
    "import matplotlib.pylab as plt\n",
    "%matplotlib notebook\n",
    "plt.figure(figsize=(8,6))\n",
    "plt.plot(vt,veloo)\n",
    "avg = np.nanmean(veloo)\n",
    "plt.title('%f'%avg)"
   ]
  },
  {
   "cell_type": "markdown",
   "metadata": {},
   "source": [
    "Plot of Velo w/ outlier data"
   ]
  },
  {
   "cell_type": "code",
   "execution_count": null,
   "metadata": {},
   "outputs": [],
   "source": [
    "import matplotlib.pylab as plt\n",
    "import matplotlib.cm as cm\n",
    "colors = np.random.random(len(time_velo[velo>50]))\n",
    "%matplotlib notebook\n",
    "plt.figure(figsize = (8,6))\n",
    "plt.scatter(time_velo[velo>50],velo[velo>50],c=colors,s=(2/50*velo[velo>50])**2)\n",
    "plt.plot(time_velo,velo,linewidth=0.5)\n",
    "plt.xlabel('Time(s)')\n",
    "plt.ylabel('Velocity (ft/s)')\n",
    "plt.title('Smoothed Velocity Plot w/ Outliers')\n",
    "plt.savefig('smoothed_velo.png')"
   ]
  },
  {
   "cell_type": "code",
   "execution_count": null,
   "metadata": {},
   "outputs": [],
   "source": [
    "high_velos = velo[velo>30]\n",
    "findee = list(velo)\n",
    "for i in high_velos:\n",
    "    print(findee.index(i))\n",
    "    findee[findee.index(i)] = 0"
   ]
  },
  {
   "cell_type": "code",
   "execution_count": null,
   "metadata": {},
   "outputs": [],
   "source": [
    "plt.figure()\n",
    "# plt.plot(vt,veloo,'b')\n",
    "plt.scatter(time_velo,findee,c='r', s=(1/20*np.array(findee))**9)\n",
    "plt.plot(time_velo,findee,'b',linewidth=0.3)"
   ]
  },
  {
   "cell_type": "code",
   "execution_count": null,
   "metadata": {},
   "outputs": [],
   "source": [
    "# new_x[233:245], new_y[233:245], dist[234:245], velo[234:239], \n",
    "x[1673:1685], y[1673:1685], new_x[1673:1685]"
   ]
  },
  {
   "cell_type": "code",
   "execution_count": null,
   "metadata": {},
   "outputs": [],
   "source": [
    "len(new_x)"
   ]
  },
  {
   "cell_type": "markdown",
   "metadata": {},
   "source": [
    "Working with NaN types"
   ]
  },
  {
   "cell_type": "code",
   "execution_count": null,
   "metadata": {},
   "outputs": [],
   "source": [
    "x = np.array([1,2,3,4,5,np.NaN, 6,7,8])\n",
    "y = np.array([2,3,5,np.NaN, 2,4,6,7,8])"
   ]
  },
  {
   "cell_type": "code",
   "execution_count": null,
   "metadata": {},
   "outputs": [],
   "source": [
    "plt.figure()\n",
    "plt.plot(x,y,'r-o')"
   ]
  },
  {
   "cell_type": "code",
   "execution_count": null,
   "metadata": {},
   "outputs": [],
   "source": [
    "a = np.linspace(1,100,100)"
   ]
  },
  {
   "cell_type": "code",
   "execution_count": null,
   "metadata": {},
   "outputs": [],
   "source": [
    "np.nanpercentile(a,40)"
   ]
  },
  {
   "cell_type": "code",
   "execution_count": null,
   "metadata": {},
   "outputs": [],
   "source": [
    "np.arange(25)"
   ]
  },
  {
   "cell_type": "code",
   "execution_count": null,
   "metadata": {},
   "outputs": [],
   "source": [
    "import numpy as np\n",
    "import matplotlib.pyplot as plt\n",
    "x = np.arange(0, 10, 0.1)\n",
    "y1 = 0.05 * x**2\n",
    "y2 = -1 *y1\n",
    "\n",
    "fig, ax1 = plt.subplots()\n",
    "\n",
    "ax2 = ax1.twinx()\n",
    "ax1.plot(x, y1, 'g-')\n",
    "ax2.plot(x, y2, 'b-')\n",
    "\n",
    "ax1.set_xlabel('X data')\n",
    "ax1.set_ylabel('Y1 data', color='g')\n",
    "ax2.set_ylabel('Y2 data', color='b')\n",
    "\n",
    "plt.show()"
   ]
  },
  {
   "cell_type": "markdown",
   "metadata": {},
   "source": [
    "creating a 'flag' to determine offense/defense"
   ]
  },
  {
   "cell_type": "code",
   "execution_count": null,
   "metadata": {},
   "outputs": [],
   "source": [
    "len(x)"
   ]
  },
  {
   "cell_type": "code",
   "execution_count": null,
   "metadata": {},
   "outputs": [],
   "source": [
    "x = np.linspace(0,100)\n",
    "x[x>3]"
   ]
  },
  {
   "cell_type": "code",
   "execution_count": null,
   "metadata": {},
   "outputs": [],
   "source": [
    "a= np.array([])\n",
    "np.append(a,4)"
   ]
  },
  {
   "cell_type": "code",
   "execution_count": null,
   "metadata": {},
   "outputs": [],
   "source": [
    "nba.ball_flagger(game1)"
   ]
  },
  {
   "cell_type": "code",
   "execution_count": null,
   "metadata": {},
   "outputs": [],
   "source": [
    "nba.velo_accel(game1)"
   ]
  },
  {
   "cell_type": "code",
   "execution_count": null,
   "metadata": {},
   "outputs": [],
   "source": [
    "%matplotlib notebook\n",
    "a = np.sqrt(np.square(game1['2017/10/17/HOUGSW/']['homeplayers']['KevinDurant']['accel'][0]) + np.square(game1['2017/10/17/HOUGSW/']['homeplayers']['KevinDurant']['accel'][1]))\n",
    "t = np.linspace(0,len(a),len(a))\n",
    "plt.figure()\n",
    "plt.plot(t,a)"
   ]
  },
  {
   "cell_type": "code",
   "execution_count": null,
   "metadata": {},
   "outputs": [],
   "source": [
    "veloxy = game1['2017/10/17/HOUGSW/']['homeplayers']['KevinDurant']['velo']\n",
    "velo = np.sqrt(np.square(veloxy[0])+np.square(veloxy[1]))\n",
    "vt = np.linspace(0,len(velo),len(velo))*0.04"
   ]
  },
  {
   "cell_type": "code",
   "execution_count": null,
   "metadata": {},
   "outputs": [],
   "source": [
    "new_velo = nba.smoothing(velo,5)\n",
    "new_t = np.linspace(0,len(new_velo),len(new_velo))*0.04\n",
    "plt.figure()\n",
    "\n",
    "plt.plot(vt,velo)\n",
    "plt.plot(new_t,new_velo)\n",
    "plt.title('Smoothed Velo KD: avg = %.2f' %np.average(new_velo))\n",
    "plt.savefig('../plots/mag-smoothing.png')"
   ]
  },
  {
   "cell_type": "code",
   "execution_count": null,
   "metadata": {},
   "outputs": [],
   "source": [
    "vx = veloxy[0]\n",
    "vxsm = nba.smoothing(vx,5)\n",
    "vy = veloxy[1]\n",
    "vysm = nba.smoothing(vy,5)\n",
    "v = np.sqrt(np.square(vxsm)+np.square(vysm))\n",
    "vt2 = np.linspace(0,len(v),len(v))*0.04\n",
    "plt.figure()\n",
    "plt.plot(vt,velo)\n",
    "plt.plot(vt2,v)\n",
    "plt.title('Smoothed Velo KD: avg = %.2f' %np.average(v))\n",
    "plt.savefig('../plots/x-y-smoothing.png')"
   ]
  },
  {
   "cell_type": "markdown",
   "metadata": {},
   "source": [
    "### Pandas"
   ]
  },
  {
   "cell_type": "code",
   "execution_count": null,
   "metadata": {},
   "outputs": [],
   "source": [
    "import pandas as pd"
   ]
  },
  {
   "cell_type": "code",
   "execution_count": null,
   "metadata": {},
   "outputs": [],
   "source": [
    "x = [1,2,3,4,np.nan,6,7,8]\n",
    "y = pd.Series(x)\n",
    "# z = pd.expanding_mean(y)\n",
    "z2 = pd.Series(x).expanding(min_periods=1).mean()"
   ]
  },
  {
   "cell_type": "markdown",
   "metadata": {},
   "source": [
    "### Lists"
   ]
  },
  {
   "cell_type": "code",
   "execution_count": null,
   "metadata": {},
   "outputs": [],
   "source": [
    "a = [[[3,2],[2,5]], [[2,3,4,5],[6,5,4,3]]]"
   ]
  },
  {
   "cell_type": "code",
   "execution_count": null,
   "metadata": {},
   "outputs": [],
   "source": [
    "a.append([[3,2],[3,2]])"
   ]
  },
  {
   "cell_type": "code",
   "execution_count": null,
   "metadata": {},
   "outputs": [],
   "source": [
    "a"
   ]
  },
  {
   "cell_type": "code",
   "execution_count": null,
   "metadata": {},
   "outputs": [],
   "source": [
    "b = np.array(a)\n",
    "b"
   ]
  },
  {
   "cell_type": "markdown",
   "metadata": {},
   "source": [
    "### Matplotlib"
   ]
  },
  {
   "cell_type": "code",
   "execution_count": null,
   "metadata": {},
   "outputs": [],
   "source": [
    "n = 100\n",
    "x = np.random.random(n)\n",
    "y = np.random.random(n)\n",
    "colors = np.random.randn(n)\n",
    "plt.scatter(x,y, c = colors, s = 100*np.sqrt(np.square(x)+np.square(y)))"
   ]
  },
  {
   "cell_type": "code",
   "execution_count": null,
   "metadata": {},
   "outputs": [],
   "source": [
    "a = np.array([True,False,True])\n",
    "b = ~a\n",
    "b"
   ]
  },
  {
   "cell_type": "markdown",
   "metadata": {},
   "source": [
    "#### using shapes in matplotlib"
   ]
  },
  {
   "cell_type": "code",
   "execution_count": null,
   "metadata": {},
   "outputs": [],
   "source": [
    "import matplotlib.pylab as plt"
   ]
  },
  {
   "cell_type": "code",
   "execution_count": null,
   "metadata": {},
   "outputs": [],
   "source": [
    "plt.figure()\n",
    "for i in range(0,10):\n",
    "    \n",
    "    circle = plt.Rectangle((i, 0), height=100, width=100, fc='g')\n",
    "    plt.gca().add_patch(circle)\n",
    "\n",
    "# # plt.axis('scaled')\n",
    "plt.ylim(0,1000)\n",
    "plt.xlim(0,1000)\n",
    "# plt.show()\n"
   ]
  },
  {
   "cell_type": "markdown",
   "metadata": {},
   "source": [
    "# Web Scraping!!!! this feels like torture"
   ]
  },
  {
   "cell_type": "code",
   "execution_count": 1,
   "metadata": {},
   "outputs": [],
   "source": [
    "from requests import get\n",
    "from requests.exceptions import RequestException\n",
    "from contextlib import closing\n",
    "from bs4 import BeautifulSoup\n",
    "import requests\n",
    "from datetime import datetime, timedelta"
   ]
  },
  {
   "cell_type": "code",
   "execution_count": 2,
   "metadata": {},
   "outputs": [],
   "source": [
    "def simple_get(url):\n",
    "    \"\"\"\n",
    "    Attempts to get the content at `url` by making an HTTP GET request.\n",
    "    If the content-type of response is some kind of HTML/XML, return the\n",
    "    text content, otherwise return None\n",
    "    \"\"\"\n",
    "    try:\n",
    "        with closing(get(url, stream=True)) as resp:\n",
    "            if is_good_response(resp):\n",
    "                return resp.content\n",
    "            else:\n",
    "                return None\n",
    "\n",
    "    except RequestException as e:\n",
    "        log_error('Error during requests to {0} : {1}'.format(url, str(e)))\n",
    "        return None\n",
    "\n",
    "\n",
    "def is_good_response(resp):\n",
    "    \"\"\"\n",
    "    Returns true if the response seems to be HTML, false otherwise\n",
    "    \"\"\"\n",
    "    content_type = resp.headers['Content-Type'].lower()\n",
    "    return (resp.status_code == 200 \n",
    "            and content_type is not None \n",
    "            and content_type.find('html') > -1)\n",
    "\n",
    "\n",
    "def log_error(e):\n",
    "    \"\"\"\n",
    "    It is always a good idea to log errors. \n",
    "    This function just prints them, but you can\n",
    "    make it do anything.\n",
    "    \"\"\"\n",
    "    print(e)"
   ]
  },
  {
   "cell_type": "code",
   "execution_count": 4,
   "metadata": {},
   "outputs": [],
   "source": [
    "def findnth(string, substring, n):\n",
    "    parts = string.split(substring, n + 1)\n",
    "    if len(parts) <= n + 1:\n",
    "        return -1\n",
    "    return len(string) - len(parts[-1]) - len(substring)\n",
    "# findnth(q1, 'James Harden makes driving layup', 1)"
   ]
  },
  {
   "cell_type": "code",
   "execution_count": 5,
   "metadata": {},
   "outputs": [],
   "source": [
    "url = \"http://www.espn.com/nba/playbyplay?gameId=400974438\"\n",
    "htmlContent = requests.get(url, verify=False)\n",
    "data = htmlContent.text"
   ]
  },
  {
   "cell_type": "code",
   "execution_count": 6,
   "metadata": {},
   "outputs": [],
   "source": [
    "raw_html = simple_get('http://www.espn.com/nba/playbyplay?gameId=400974438')"
   ]
  },
  {
   "cell_type": "code",
   "execution_count": 7,
   "metadata": {},
   "outputs": [],
   "source": [
    "html = BeautifulSoup(raw_html,'html.parser')"
   ]
  },
  {
   "cell_type": "code",
   "execution_count": 10,
   "metadata": {
    "scrolled": false
   },
   "outputs": [],
   "source": [
    "for i, li in enumerate(html.select('li')):\n",
    "#     if i==260:\n",
    "#         print(type(i), i, li.text)\n",
    "#     print(type(i), i, li.text)\n",
    "    if i == 260:\n",
    "            q1 = li.text\n",
    "    \n",
    "    if i == 261:\n",
    "            q2 = li.text\n",
    "    if i == 262:\n",
    "            q3 = li.text\n",
    "    if i == 263:\n",
    "            q4 = li.text\n",
    "    "
   ]
  },
  {
   "cell_type": "code",
   "execution_count": 24,
   "metadata": {},
   "outputs": [],
   "source": [
    "made_shot = []\n",
    "missed_shot = []\n",
    "free_throws = []\n",
    "made_time = []\n",
    "missed_time = []\n",
    "ft_time = []\n",
    "# print('n','fl','li.text')\n",
    "\n",
    "\n",
    "prev = None\n",
    "for i, li in enumerate(html.select('li')):\n",
    "    if li.text in q1 and i!=260 and len(li.text.split()) > 2:\n",
    "        fl = q1.index(str(li.text))\n",
    "        prev = fl-1\n",
    "        length = len(li.text)\n",
    "        time = q1[fl-5:fl]\n",
    "     \n",
    "        if int(time[0])>1 or ':' not in time[0:3]:\n",
    "#             print(time,'BEFORE')\n",
    "            \n",
    "            time = time[1:]\n",
    "#             if '.' in time:\n",
    "#                 if time[0] == q1[fl\n",
    "        \n",
    "        if 'makes' in li.text and li.text not in made_shot:\n",
    "               \n",
    "            made_shot.append(li.text)\n",
    "            made_time.append(time)\n",
    "            \n",
    "        elif 'miss' in li.text and li.text not in missed_shot:\n",
    "           \n",
    "            missed_shot.append(li.text)\n",
    "            missed_time.append(time)\n",
    "        \n",
    "        elif 'makes' in li.text and li.text in made_shot:\n",
    "            n = made_shot.count(li.text)\n",
    "            \n",
    "            fl = findnth(q1,li.text,n)\n",
    "#             print(n, fl, li.text)\n",
    "            time = q1[fl-5:fl]\n",
    "            if int(time[0])>1 or ':' not in time[0:3]:\n",
    "#             print(time,'BEFORE')\n",
    "            \n",
    "                time = time[1:]\n",
    "            made_shot.append(li.text)\n",
    "            made_time.append(time)\n",
    "        \n",
    "        elif 'miss' in li.text and li.text in missed_shot:\n",
    "              \n",
    "            n = missed_shot.count(li.text)\n",
    "            fl = findnth(q1,li.text,n)\n",
    "#             print(n, fl, li.text)\n",
    "            time = q1[fl-5:fl]\n",
    "            if int(time[0])>1 or ':' not in time[0:3]:\n",
    "#             print(time,'BEFORE')\n",
    "            \n",
    "                time = time[1:]\n",
    "        \n",
    "            missed_shot.append(li.text)\n",
    "            missed_time.append(time)\n",
    "            \n",
    "            \n"
   ]
  },
  {
   "cell_type": "code",
   "execution_count": 20,
   "metadata": {},
   "outputs": [
    {
     "name": "stdout",
     "output_type": "stream",
     "text": [
      "11:47 James Harden makes driving layup\n",
      "10:16 Trevor Ariza makes 25-foot three point shot (Chris Paul assists)\n",
      "8:19 Trevor Ariza makes layup (Chris Paul assists)\n",
      "8:00 Chris Paul makes 12-foot two point shot (James Harden assists)\n",
      "6:32 Ryan Anderson makes layup\n",
      "6:11 Eric Gordon makes driving layup\n",
      "5:01 James Harden makes driving layup\n",
      "4:34 Eric Gordon makes driving layup (James Harden assists)\n",
      "3:46 James Harden makes 25-foot three point jumper\n",
      "3:15 Ryan Anderson makes 27-foot three point jumper (James Harden assists)\n",
      "2:21 Eric Gordon makes driving dunk\n",
      "51.0 James Harden makes 25-foot step back jumpshot\n",
      " - 3 James Harden makes 25-foot step back jumpshot\n",
      " - 3 James Harden makes driving layup\n",
      "4:34 Eric Gordon makes driving layup\n",
      " - 3 James Harden makes driving layup\n",
      "10:30 Klay Thompson makes 23-foot three point jumper (Draymond Green assists)\n",
      "10:05 Klay Thompson makes 22-foot jumper (Draymond Green assists)\n",
      "9:00 Klay Thompson makes 26-foot three point jumper (Kevin Durant assists)\n",
      "8:09 Stephen Curry makes 26-foot three point jumper (Kevin Durant assists)\n",
      "7:49 Zaza Pachulia makes 18-foot jumper (Draymond Green assists)\n",
      "7:14 Patrick McCaw makes pullup jump shot (Draymond Green assists)\n",
      "6:56 Klay Thompson makes 22-foot three point shot (Kevin Durant assists)\n",
      "5:38 Jordan Bell makes two point shot (Patrick McCaw assists)\n",
      "2:55 Nick Young makes 23-foot three point jumper (Draymond Green assists)\n",
      "2:00 Nick Young makes 25-foot three pointer (Jordan Bell assists)\n",
      "1:34 Nick Young makes three pointer (Shaun Livingston assists)\n"
     ]
    }
   ],
   "source": [
    "for i in range(len(made_shot)):\n",
    "    print(made_time[i], made_shot[i])"
   ]
  },
  {
   "cell_type": "code",
   "execution_count": 25,
   "metadata": {},
   "outputs": [
    {
     "name": "stdout",
     "output_type": "stream",
     "text": [
      "James Harden makes 25-foot step back jumpshot  - 3\n",
      "James Harden makes driving layup  - 3\n",
      "James Harden makes driving layup  - 3\n"
     ]
    }
   ],
   "source": [
    "for i in range(len(made_time)):\n",
    "    if ' - 3' in made_time:\n",
    "        \n",
    "        ind = made_time.index(' - 3')\n",
    "        print(made_shot[ind], made_time[ind])\n",
    "        made_shot.remove(made_shot[ind])\n",
    "        made_time.remove(' - 3')"
   ]
  },
  {
   "cell_type": "code",
   "execution_count": 13,
   "metadata": {},
   "outputs": [
    {
     "data": {
      "text/plain": [
       "(24, 24)"
      ]
     },
     "execution_count": 13,
     "metadata": {},
     "output_type": "execute_result"
    }
   ],
   "source": [
    "len(made_time),len(made_shot)"
   ]
  },
  {
   "cell_type": "code",
   "execution_count": 26,
   "metadata": {},
   "outputs": [
    {
     "name": "stdout",
     "output_type": "stream",
     "text": [
      "11:47 Trevor Ariza makes 25-foot three point shot (Chris Paul assists)\n",
      "10:16 Trevor Ariza makes layup (Chris Paul assists)\n",
      "8:19 Chris Paul makes 12-foot two point shot (James Harden assists)\n",
      "8:00 Ryan Anderson makes layup\n",
      "6:32 Eric Gordon makes driving layup\n",
      "6:11 Eric Gordon makes driving layup (James Harden assists)\n",
      "5:01 James Harden makes 25-foot three point jumper\n",
      "4:34 Ryan Anderson makes 27-foot three point jumper (James Harden assists)\n",
      "3:46 Eric Gordon makes driving dunk\n",
      "3:15 James Harden makes 25-foot step back jumpshot\n",
      "2:21 James Harden makes driving layup\n",
      "51.0 Eric Gordon makes driving layup\n",
      "4:34 James Harden makes driving layup\n",
      "10:30 Klay Thompson makes 23-foot three point jumper (Draymond Green assists)\n",
      "10:05 Klay Thompson makes 22-foot jumper (Draymond Green assists)\n",
      "9:00 Klay Thompson makes 26-foot three point jumper (Kevin Durant assists)\n",
      "8:09 Stephen Curry makes 26-foot three point jumper (Kevin Durant assists)\n",
      "7:49 Zaza Pachulia makes 18-foot jumper (Draymond Green assists)\n",
      "7:14 Patrick McCaw makes pullup jump shot (Draymond Green assists)\n",
      "6:56 Klay Thompson makes 22-foot three point shot (Kevin Durant assists)\n",
      "5:38 Jordan Bell makes two point shot (Patrick McCaw assists)\n",
      "2:55 Nick Young makes 23-foot three point jumper (Draymond Green assists)\n",
      "2:00 Nick Young makes 25-foot three pointer (Jordan Bell assists)\n",
      "1:34 Nick Young makes three pointer (Shaun Livingston assists)\n"
     ]
    }
   ],
   "source": [
    "for i in range(len(made_shot)):\n",
    "    print(made_time[i], made_shot[i])"
   ]
  },
  {
   "cell_type": "code",
   "execution_count": null,
   "metadata": {},
   "outputs": [],
   "source": [
    "len(made_shot)"
   ]
  },
  {
   "cell_type": "code",
   "execution_count": null,
   "metadata": {},
   "outputs": [],
   "source": [
    "len(made_time)"
   ]
  },
  {
   "cell_type": "code",
   "execution_count": null,
   "metadata": {},
   "outputs": [],
   "source": []
  }
 ],
 "metadata": {
  "kernelspec": {
   "display_name": "Python 3",
   "language": "python",
   "name": "python3"
  },
  "language_info": {
   "codemirror_mode": {
    "name": "ipython",
    "version": 3
   },
   "file_extension": ".py",
   "mimetype": "text/x-python",
   "name": "python",
   "nbconvert_exporter": "python",
   "pygments_lexer": "ipython3",
   "version": "3.6.4"
  }
 },
 "nbformat": 4,
 "nbformat_minor": 2
}
