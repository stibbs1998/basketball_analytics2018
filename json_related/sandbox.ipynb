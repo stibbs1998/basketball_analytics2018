{
 "cells": [
  {
   "cell_type": "markdown",
   "metadata": {},
   "source": [
    "Had trouble getting zip function to work.... learned it can be called as such (much easier to run!!!)"
   ]
  },
  {
   "cell_type": "code",
   "execution_count": null,
   "metadata": {},
   "outputs": [],
   "source": [
    "a = [[1,2,3],[4,5,6]]\n",
    "\n",
    "zipped = list(zip(*a))\n",
    "x,y, z = zipped"
   ]
  },
  {
   "cell_type": "markdown",
   "metadata": {},
   "source": [
    "Reading in Warriors Rockets October $17^{th}$ 2017"
   ]
  },
  {
   "cell_type": "code",
   "execution_count": null,
   "metadata": {},
   "outputs": [],
   "source": [
    "import json\n",
    "import numpy as np\n",
    "import nba_functions as nba\n",
    "import matplotlib.pylab as plt"
   ]
  },
  {
   "cell_type": "code",
   "execution_count": null,
   "metadata": {},
   "outputs": [],
   "source": [
    "reader = open('warriors_game1.json')\n",
    "game1 = json.load(reader)"
   ]
  },
  {
   "cell_type": "code",
   "execution_count": null,
   "metadata": {},
   "outputs": [],
   "source": [
    "max(game1['2017/10/17/HOUGSW/']['gameclock'])"
   ]
  },
  {
   "cell_type": "code",
   "execution_count": null,
   "metadata": {},
   "outputs": [],
   "source": [
    "# import nba_functions as nba\n",
    "nba.ball_flagger(game1)\n",
    "nba.player_flagger(game1)\n",
    "nba.player_flagger2(game1)"
   ]
  },
  {
   "cell_type": "code",
   "execution_count": null,
   "metadata": {},
   "outputs": [],
   "source": [
    "ball = np.array(game1['2017/10/17/HOUGSW/']['home_poss'])\n",
    "len(ball[ball==True])/len(ball)*100"
   ]
  },
  {
   "cell_type": "code",
   "execution_count": null,
   "metadata": {},
   "outputs": [],
   "source": [
    "plt.figure()\n",
    "x = np.array(game1['2017/10/17/HOUGSW/']['ballXyz']['x'])\n",
    "y = np.array(game1['2017/10/17/HOUGSW/']['ballXyz']['y'])\n",
    "xx = x[ind]\n",
    "yy = y[ind]\n",
    "plt.plot(xx,yy,'r.')\n",
    "plt.xlim(-50,50)"
   ]
  },
  {
   "cell_type": "code",
   "execution_count": null,
   "metadata": {},
   "outputs": [],
   "source": [
    "dx = np.subtract(player['x'][2:], player['x'][:-2])\n",
    "dy = np.subtract(player['y'][2:], player['y'][:-2])\n",
    "\n",
    "\n",
    "dist = np.sqrt(dx**2 + dy**2)"
   ]
  },
  {
   "cell_type": "code",
   "execution_count": null,
   "metadata": {
    "scrolled": true
   },
   "outputs": [],
   "source": [
    "type(game1['2017/10/17/HOUGSW/']['ballXyz']['x'])"
   ]
  },
  {
   "cell_type": "markdown",
   "metadata": {},
   "source": [
    "work on running average of position to 'smooth' out the points"
   ]
  },
  {
   "cell_type": "code",
   "execution_count": null,
   "metadata": {},
   "outputs": [],
   "source": [
    "x = player['x']\n",
    "y = player['y']\n",
    "time = np.linspace(0,len(x),len(x))*0.04"
   ]
  },
  {
   "cell_type": "code",
   "execution_count": null,
   "metadata": {},
   "outputs": [],
   "source": [
    "from imageio import imread\n",
    "import matplotlib.pylab as plt\n",
    "%matplotlib inline\n",
    "\n",
    "plt.figure(figsize=(12,10))\n",
    "img = imread(\"court.png\")\n",
    "plt.imshow(img,zorder=0, extent = [-54.5,54.5,-31.3,31.3])\n",
    "plt.plot(x,y)"
   ]
  },
  {
   "cell_type": "code",
   "execution_count": null,
   "metadata": {},
   "outputs": [],
   "source": [
    "def moving_average(a, n) : #https://stackoverflow.com/questions/14313510/how-to-calculate-moving-average-using-numpy\n",
    "    ret = np.nancumsum(a, dtype=float)\n",
    "    ret[n:] = ret[n:] - ret[:-n]\n",
    "    return ret[n - 1:] / n"
   ]
  },
  {
   "cell_type": "code",
   "execution_count": null,
   "metadata": {},
   "outputs": [],
   "source": [
    "count = 0\n",
    "false_count = 0\n",
    "on_court = game1['2017/10/17/HOUGSW/']['on_court']\n",
    "for i in range(len(on_court)):\n",
    "    if on_court[i] == True:\n",
    "        count+= 1\n",
    "    else:\n",
    "        false_count +=1 \n",
    "print(\"There are %d points where the clock is stopped.\" %count)"
   ]
  },
  {
   "cell_type": "code",
   "execution_count": null,
   "metadata": {},
   "outputs": [],
   "source": [
    "new_x = moving_average(x,n=5)\n",
    "new_y = moving_average(y,n=5)\n",
    "new_time = time[2:-2]"
   ]
  },
  {
   "cell_type": "code",
   "execution_count": null,
   "metadata": {},
   "outputs": [],
   "source": [
    "dx = new_x[2:]-new_x[:-2]\n",
    "dy = new_y[2:]-new_y[:-2]\n",
    "dist = np.sqrt(np.square(dx)+np.square(dy)) # change in distance is 0.08 seconds apart\n",
    "velo = dist/0.08\n",
    "time_velo = new_time[1:-1]\n",
    "\n",
    "dxx = np.array(x[2:])-np.array(x[:-2])\n",
    "dyy = np.array(y[2:])-np.array(y[:-2])\n",
    "distt = np.sqrt(np.square(dxx)+np.square(dyy))\n",
    "veloo = distt/0.08\n",
    "vt = np.linspace(0,len(veloo),len(veloo))*0.04\n",
    "\n",
    "import matplotlib.pylab as plt\n",
    "%matplotlib notebook\n",
    "plt.figure(figsize=(8,6))\n",
    "plt.plot(vt,veloo)\n",
    "avg = np.nanmean(veloo)\n",
    "plt.title('%f'%avg)"
   ]
  },
  {
   "cell_type": "markdown",
   "metadata": {},
   "source": [
    "Plot of Velo w/ outlier data"
   ]
  },
  {
   "cell_type": "code",
   "execution_count": null,
   "metadata": {},
   "outputs": [],
   "source": [
    "import matplotlib.pylab as plt\n",
    "import matplotlib.cm as cm\n",
    "colors = np.random.random(len(time_velo[velo>50]))\n",
    "%matplotlib notebook\n",
    "plt.figure(figsize = (8,6))\n",
    "plt.scatter(time_velo[velo>50],velo[velo>50],c=colors,s=(2/50*velo[velo>50])**2)\n",
    "plt.plot(time_velo,velo,linewidth=0.5)\n",
    "plt.xlabel('Time(s)')\n",
    "plt.ylabel('Velocity (ft/s)')\n",
    "plt.title('Smoothed Velocity Plot w/ Outliers')\n",
    "plt.savefig('smoothed_velo.png')"
   ]
  },
  {
   "cell_type": "code",
   "execution_count": null,
   "metadata": {},
   "outputs": [],
   "source": [
    "high_velos = velo[velo>30]\n",
    "findee = list(velo)\n",
    "for i in high_velos:\n",
    "    print(findee.index(i))\n",
    "    findee[findee.index(i)] = 0"
   ]
  },
  {
   "cell_type": "code",
   "execution_count": null,
   "metadata": {},
   "outputs": [],
   "source": [
    "plt.figure()\n",
    "# plt.plot(vt,veloo,'b')\n",
    "plt.scatter(time_velo,findee,c='r', s=(1/20*np.array(findee))**9)\n",
    "plt.plot(time_velo,findee,'b',linewidth=0.3)"
   ]
  },
  {
   "cell_type": "code",
   "execution_count": null,
   "metadata": {},
   "outputs": [],
   "source": [
    "# new_x[233:245], new_y[233:245], dist[234:245], velo[234:239], \n",
    "x[1673:1685], y[1673:1685], new_x[1673:1685]"
   ]
  },
  {
   "cell_type": "code",
   "execution_count": null,
   "metadata": {},
   "outputs": [],
   "source": [
    "len(new_x)"
   ]
  },
  {
   "cell_type": "markdown",
   "metadata": {},
   "source": [
    "Working with NaN types"
   ]
  },
  {
   "cell_type": "code",
   "execution_count": null,
   "metadata": {},
   "outputs": [],
   "source": [
    "x = np.array([1,2,3,4,5,np.NaN, 6,7,8])\n",
    "y = np.array([2,3,5,np.NaN, 2,4,6,7,8])"
   ]
  },
  {
   "cell_type": "code",
   "execution_count": null,
   "metadata": {},
   "outputs": [],
   "source": [
    "plt.figure()\n",
    "plt.plot(x,y,'r-o')"
   ]
  },
  {
   "cell_type": "code",
   "execution_count": null,
   "metadata": {},
   "outputs": [],
   "source": [
    "a = np.linspace(1,100,100)"
   ]
  },
  {
   "cell_type": "code",
   "execution_count": null,
   "metadata": {},
   "outputs": [],
   "source": [
    "np.nanpercentile(a,40)"
   ]
  },
  {
   "cell_type": "code",
   "execution_count": null,
   "metadata": {},
   "outputs": [],
   "source": [
    "np.arange(25)"
   ]
  },
  {
   "cell_type": "code",
   "execution_count": null,
   "metadata": {},
   "outputs": [],
   "source": [
    "import numpy as np\n",
    "import matplotlib.pyplot as plt\n",
    "x = np.arange(0, 10, 0.1)\n",
    "y1 = 0.05 * x**2\n",
    "y2 = -1 *y1\n",
    "\n",
    "fig, ax1 = plt.subplots()\n",
    "\n",
    "ax2 = ax1.twinx()\n",
    "ax1.plot(x, y1, 'g-')\n",
    "ax2.plot(x, y2, 'b-')\n",
    "\n",
    "ax1.set_xlabel('X data')\n",
    "ax1.set_ylabel('Y1 data', color='g')\n",
    "ax2.set_ylabel('Y2 data', color='b')\n",
    "\n",
    "plt.show()"
   ]
  },
  {
   "cell_type": "markdown",
   "metadata": {},
   "source": [
    "creating a 'flag' to determine offense/defense"
   ]
  },
  {
   "cell_type": "code",
   "execution_count": null,
   "metadata": {},
   "outputs": [],
   "source": [
    "len(x)"
   ]
  },
  {
   "cell_type": "code",
   "execution_count": null,
   "metadata": {},
   "outputs": [],
   "source": [
    "x = np.linspace(0,100)\n",
    "x[x>3]"
   ]
  },
  {
   "cell_type": "code",
   "execution_count": null,
   "metadata": {},
   "outputs": [],
   "source": [
    "a= np.array([])\n",
    "np.append(a,4)"
   ]
  },
  {
   "cell_type": "code",
   "execution_count": null,
   "metadata": {},
   "outputs": [],
   "source": [
    "nba.ball_flagger(game1)"
   ]
  },
  {
   "cell_type": "code",
   "execution_count": null,
   "metadata": {},
   "outputs": [],
   "source": [
    "nba.velo_accel(game1)"
   ]
  },
  {
   "cell_type": "code",
   "execution_count": null,
   "metadata": {},
   "outputs": [],
   "source": [
    "%matplotlib notebook\n",
    "a = np.sqrt(np.square(game1['2017/10/17/HOUGSW/']['homeplayers']['KevinDurant']['accel'][0]) + np.square(game1['2017/10/17/HOUGSW/']['homeplayers']['KevinDurant']['accel'][1]))\n",
    "t = np.linspace(0,len(a),len(a))\n",
    "plt.figure()\n",
    "plt.plot(t,a)"
   ]
  },
  {
   "cell_type": "code",
   "execution_count": null,
   "metadata": {},
   "outputs": [],
   "source": [
    "veloxy = game1['2017/10/17/HOUGSW/']['homeplayers']['KevinDurant']['velo']\n",
    "velo = np.sqrt(np.square(veloxy[0])+np.square(veloxy[1]))\n",
    "vt = np.linspace(0,len(velo),len(velo))*0.04"
   ]
  },
  {
   "cell_type": "code",
   "execution_count": null,
   "metadata": {},
   "outputs": [],
   "source": [
    "new_velo = nba.smoothing(velo,5)\n",
    "new_t = np.linspace(0,len(new_velo),len(new_velo))*0.04\n",
    "plt.figure()\n",
    "\n",
    "plt.plot(vt,velo)\n",
    "plt.plot(new_t,new_velo)\n",
    "plt.title('Smoothed Velo KD: avg = %.2f' %np.average(new_velo))\n",
    "plt.savefig('../plots/mag-smoothing.png')"
   ]
  },
  {
   "cell_type": "code",
   "execution_count": null,
   "metadata": {},
   "outputs": [],
   "source": [
    "vx = veloxy[0]\n",
    "vxsm = nba.smoothing(vx,5)\n",
    "vy = veloxy[1]\n",
    "vysm = nba.smoothing(vy,5)\n",
    "v = np.sqrt(np.square(vxsm)+np.square(vysm))\n",
    "vt2 = np.linspace(0,len(v),len(v))*0.04\n",
    "plt.figure()\n",
    "plt.plot(vt,velo)\n",
    "plt.plot(vt2,v)\n",
    "plt.title('Smoothed Velo KD: avg = %.2f' %np.average(v))\n",
    "plt.savefig('../plots/x-y-smoothing.png')"
   ]
  },
  {
   "cell_type": "markdown",
   "metadata": {},
   "source": [
    "### Pandas"
   ]
  },
  {
   "cell_type": "code",
   "execution_count": null,
   "metadata": {},
   "outputs": [],
   "source": [
    "import pandas as pd"
   ]
  },
  {
   "cell_type": "code",
   "execution_count": null,
   "metadata": {},
   "outputs": [],
   "source": [
    "x = [1,2,3,4,np.nan,6,7,8]\n",
    "y = pd.Series(x)\n",
    "# z = pd.expanding_mean(y)\n",
    "z2 = pd.Series(x).expanding(min_periods=1).mean()"
   ]
  },
  {
   "cell_type": "markdown",
   "metadata": {},
   "source": [
    "### Lists"
   ]
  },
  {
   "cell_type": "code",
   "execution_count": null,
   "metadata": {},
   "outputs": [],
   "source": [
    "a = [[[3,2],[2,5]], [[2,3,4,5],[6,5,4,3]]]"
   ]
  },
  {
   "cell_type": "code",
   "execution_count": null,
   "metadata": {},
   "outputs": [],
   "source": [
    "a.append([[3,2],[3,2]])"
   ]
  },
  {
   "cell_type": "code",
   "execution_count": null,
   "metadata": {},
   "outputs": [],
   "source": [
    "a"
   ]
  },
  {
   "cell_type": "code",
   "execution_count": null,
   "metadata": {},
   "outputs": [],
   "source": [
    "b = np.array(a)\n",
    "b"
   ]
  },
  {
   "cell_type": "markdown",
   "metadata": {},
   "source": [
    "### Matplotlib"
   ]
  },
  {
   "cell_type": "code",
   "execution_count": null,
   "metadata": {},
   "outputs": [],
   "source": [
    "import numpy as np\n",
    "import matplotlib.pylab as plt\n",
    "%matplotlib notebook"
   ]
  },
  {
   "cell_type": "code",
   "execution_count": null,
   "metadata": {},
   "outputs": [],
   "source": [
    "x = [1, 2, 3, 4, 5]\n",
    "y = [1, 2, 2, 0, 0]\n",
    "width = [1, 2, 3, 4,  6]\n",
    "\n",
    "plt.figure()\n",
    "\n",
    "for i in range(len(x)-1):\n",
    "    plt.plot(x[i:i+2], y[i:i+2], 'b', linewidth=width[i])\n",
    "plt.show()"
   ]
  },
  {
   "cell_type": "code",
   "execution_count": null,
   "metadata": {},
   "outputs": [],
   "source": [
    "n = 100\n",
    "x = np.random.random(n)\n",
    "y = np.random.random(n)\n",
    "colors = np.random.randn(n)\n",
    "plt.scatter(x,y, c = colors, s = 100*np.sqrt(np.square(x)+np.square(y)))"
   ]
  },
  {
   "cell_type": "code",
   "execution_count": null,
   "metadata": {},
   "outputs": [],
   "source": []
  }
 ],
 "metadata": {
  "kernelspec": {
   "display_name": "Python 3",
   "language": "python",
   "name": "python3"
  },
  "language_info": {
   "codemirror_mode": {
    "name": "ipython",
    "version": 3
   },
   "file_extension": ".py",
   "mimetype": "text/x-python",
   "name": "python",
   "nbconvert_exporter": "python",
   "pygments_lexer": "ipython3",
   "version": "3.6.4"
  }
 },
 "nbformat": 4,
 "nbformat_minor": 2
}
