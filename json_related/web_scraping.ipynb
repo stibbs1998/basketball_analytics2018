{
 "cells": [
  {
   "cell_type": "code",
   "execution_count": null,
   "metadata": {},
   "outputs": [],
   "source": [
    "from bs4 import BeautifulSoup \n",
    "\n",
    "import requests\n",
    "\n",
    "\n",
    "url = \"http://www.espn.com/nba/playbyplay?gameId=400974438\"\n",
    "r  = requests.get(url)\n",
    "\n",
    "data = r.text\n",
    "\n",
    "soup = BeautifulSoup(data,'html.parser')\n",
    "\n",
    "# print(soup.prettify())\n",
    "\n",
    "timestamp = []\n",
    "player = []\n",
    "score = []\n",
    "\n",
    "for row in soup('tr', attrs={'class':'scoring-play'}):\n",
    "\n",
    "    print(row)\n",
    "    print(\" ---------------------\")\n",
    "    cols = row.find_all('td')\n",
    "    cols = [ele.text.strip() for ele in cols]\n",
    "\n",
    "    timestamp.append(cols[0])\n",
    "\n",
    "    play_info = cols[2]\n",
    "    playername = \"%s %s\" % (play_info.split()[0],play_info.split()[1])\n",
    "    player.append(playername)\n",
    "\n",
    "    score.append(cols[3])\n",
    "\n",
    "\n",
    "# for t,p,s in zip(timestamp, player, score):\n",
    "#     print(\"{0:5s} {1:20s} {2:10s}\".format(t,p,s))"
   ]
  },
  {
   "cell_type": "code",
   "execution_count": null,
   "metadata": {},
   "outputs": [],
   "source": []
  }
 ],
 "metadata": {
  "kernelspec": {
   "display_name": "Python 3",
   "language": "python",
   "name": "python3"
  },
  "language_info": {
   "codemirror_mode": {
    "name": "ipython",
    "version": 3
   },
   "file_extension": ".py",
   "mimetype": "text/x-python",
   "name": "python",
   "nbconvert_exporter": "python",
   "pygments_lexer": "ipython3",
   "version": "3.6.4"
  }
 },
 "nbformat": 4,
 "nbformat_minor": 2
}
