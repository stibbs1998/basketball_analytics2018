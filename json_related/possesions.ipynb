{
 "cells": [
  {
   "cell_type": "code",
   "execution_count": null,
   "metadata": {},
   "outputs": [],
   "source": [
    "import nba_functions as nba\n",
    "import json\n",
    "import numpy as np\n",
    "import matplotlib.pylab as plt\n",
    "import pandas as pd"
   ]
  },
  {
   "cell_type": "code",
   "execution_count": null,
   "metadata": {},
   "outputs": [],
   "source": [
    "game1 = json.load(open('warriors_game1.json'))"
   ]
  },
  {
   "cell_type": "code",
   "execution_count": null,
   "metadata": {},
   "outputs": [],
   "source": [
    "nba.ball_flagger(game1)\n",
    "nba.player_flagger(game1)\n",
    "nba.player_flagger2(game1)\n",
    "#will display runtime warning due to logical_comparison with NaNs"
   ]
  },
  {
   "cell_type": "code",
   "execution_count": null,
   "metadata": {},
   "outputs": [],
   "source": [
    "# game1['2017/10/17/HOUGSW/']['homeplayers']['KevinDurant'].keys()\n",
    "# len(game1['2017/10/17/HOUGSW/']['homeplayers']['KevinDurant']['ind_poss']) , len(game1['2017/10/17/HOUGSW/']['homeplayers']['KevinDurant']['poss'])\n",
    "# np.sum(game1['2017/10/17/HOUGSW/']['homeplayers']['StephenCurry']['ind_poss'])*0.04/60"
   ]
  },
  {
   "cell_type": "code",
   "execution_count": null,
   "metadata": {
    "scrolled": true
   },
   "outputs": [],
   "source": [
    "# plt.figure()\n",
    "# x = len(game1['2017/10/17/HOUGSW/']['awayplayers'].keys())\n",
    "# for key in game1['2017/10/17/HOUGSW/']['awayplayers'].keys():\n",
    "    \n",
    "#     plt.plot(np.sum(game1['2017/10/17/HOUGSW/']['awayplayers'][key]['ind_poss'])*0.04/60,'o', label=key)\n",
    "    \n",
    "# plt.legend(loc='best')"
   ]
  },
  {
   "cell_type": "code",
   "execution_count": null,
   "metadata": {},
   "outputs": [],
   "source": [
    "nba.positional_smoothing(game1)\n",
    "nba.velo_accel_smoothing(game1)"
   ]
  },
  {
   "cell_type": "markdown",
   "metadata": {},
   "source": [
    "### Average Speed Off/Def"
   ]
  },
  {
   "cell_type": "code",
   "execution_count": null,
   "metadata": {},
   "outputs": [],
   "source": [
    "team = 'homeplayers'\n",
    "player = 'StephenCurry'\n",
    "\n",
    "%matplotlib notebook\n",
    "poss_idx = game1['2017/10/17/HOUGSW/'][team][player]['poss'][3:-3]\n",
    "possNOTidx = np.logical_not(poss_idx)\n",
    "velo = game1['2017/10/17/HOUGSW/'][team][player]['smooth_velo_mag'][poss_idx]\n",
    "velo2 = game1['2017/10/17/HOUGSW/'][team][player]['smooth_velo_mag'][possNOTidx]\n",
    "plt.figure()\n",
    "plt.plot(velo,'r', label = 'average speed offense: %.2f' %np.nanmean(velo))\n",
    "plt.plot(velo2, 'b', label = 'average speed defense: %.2f' %np.nanmean(velo2))\n",
    "plt.ylabel('ft/s')\n",
    "plt.tick_params(\n",
    "    axis='x',          # changes apply to the x-axis\n",
    "    which='both',      # both major and minor ticks are affected\n",
    "    bottom=False,      # ticks along the bottom edge are off\n",
    "    top=False,         # ticks along the top edge are off\n",
    "    labelbottom=False) \n",
    "plt.title('Snake')\n",
    "plt.legend()"
   ]
  },
  {
   "cell_type": "code",
   "execution_count": null,
   "metadata": {},
   "outputs": [],
   "source": [
    "team = 'homeplayers'\n",
    "player = 'DraymondGreen'\n",
    "\n",
    "\n",
    "\n",
    "poss_idx = game1['2017/10/17/HOUGSW/'][team][player]['poss'][3:-3]\n",
    "possNOTidx = np.logical_not(poss_idx)\n",
    "velo1 = game1['2017/10/17/HOUGSW/'][team][player]['smooth_velo_mag'][poss_idx]\n",
    "velo_off_avg = pd.Series(velo1).expanding(min_periods=1).mean()\n",
    "velo2 = game1['2017/10/17/HOUGSW/'][team][player]['smooth_velo_mag'][possNOTidx]\n",
    "velo_def_avg = pd.Series(velo2).expanding(min_periods=1).mean()\n",
    "plt.figure()\n",
    "plt.plot(velo_off_avg, label = 'Average Velo Offense')\n",
    "plt.plot(velo_def_avg, label = 'Average Velo Defense')\n",
    "# plt.tick_params(\n",
    "#     axis='x',          # changes apply to the x-axis\n",
    "#     which='both',      # both major and minor ticks are affected\n",
    "#     bottom=False,      # ticks along the bottom edge are off\n",
    "#     top=False,         # ticks along the top edge are off\n",
    "#     labelbottom=False) \n",
    "# plt.title(player)\n",
    "plt.xticks\n",
    "plt.legend(loc = 'best')\n",
    "plt.ylabel('Velocity (ft/s)')\n",
    "plt.xlabel(r'$\\frac{1}{25}$ s')\n",
    "\n",
    "plt.title(player)\n",
    "plt.savefig('../plots/average_velo_off_def_Scurry.png')\n",
    "plt.show()"
   ]
  }
 ],
 "metadata": {
  "kernelspec": {
   "display_name": "Python 3",
   "language": "python",
   "name": "python3"
  },
  "language_info": {
   "codemirror_mode": {
    "name": "ipython",
    "version": 3
   },
   "file_extension": ".py",
   "mimetype": "text/x-python",
   "name": "python",
   "nbconvert_exporter": "python",
   "pygments_lexer": "ipython3",
   "version": "3.6.4"
  }
 },
 "nbformat": 4,
 "nbformat_minor": 2
}
