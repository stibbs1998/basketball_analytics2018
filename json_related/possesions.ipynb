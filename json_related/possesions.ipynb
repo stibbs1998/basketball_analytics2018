{
 "cells": [
  {
   "cell_type": "code",
   "execution_count": null,
   "metadata": {},
   "outputs": [],
   "source": [
    "import nba_functions as nba\n",
    "import json\n",
    "import numpy as np\n",
    "import matplotlib.pylab as plt"
   ]
  },
  {
   "cell_type": "code",
   "execution_count": null,
   "metadata": {},
   "outputs": [],
   "source": [
    "game1 = json.load(open('warriors_game1.json'))"
   ]
  },
  {
   "cell_type": "code",
   "execution_count": null,
   "metadata": {},
   "outputs": [],
   "source": [
    "nba.ball_flagger(game1)\n",
    "nba.player_flagger(game1)"
   ]
  },
  {
   "cell_type": "code",
   "execution_count": null,
   "metadata": {},
   "outputs": [],
   "source": [
    "ind = game1['2017/10/17/HOUGSW/']['homeplayers']['KevinDurant']['time_slice']\n",
    "warriors_poss = game1['2017/10/17/HOUGSW/']['home_poss']\n",
    "type(warriors_poss)"
   ]
  },
  {
   "cell_type": "code",
   "execution_count": null,
   "metadata": {},
   "outputs": [],
   "source": [
    "game1['2017/10/17/HOUGSW/']['homeplayers']['KevinDurant'].keys()"
   ]
  },
  {
   "cell_type": "code",
   "execution_count": null,
   "metadata": {},
   "outputs": [],
   "source": [
    "nba.positional_smoothing(game1)\n",
    "nba.velo_accel_smoothing(game1)"
   ]
  },
  {
   "cell_type": "code",
   "execution_count": null,
   "metadata": {},
   "outputs": [],
   "source": [
    "%matplotlib notebook\n",
    "poss_idx = game1['2017/10/17/HOUGSW/']['homeplayers']['KevinDurant']['poss'][3:-3]\n",
    "possNOTidx = np.logical_not(poss_idx)\n",
    "velo = game1['2017/10/17/HOUGSW/']['homeplayers']['KevinDurant']['smooth_velo_mag'][poss_idx]\n",
    "velo2 = game1['2017/10/17/HOUGSW/']['homeplayers']['KevinDurant']['smooth_velo_mag'][possNOTidx]\n",
    "plt.figure()\n",
    "plt.plot(velo,'r', label = 'average speed offense: %.2f' %np.nanmean(velo))\n",
    "plt.plot(velo2, 'b', label = 'average speed defense: %.2f' %np.nanmean(velo2))\n",
    "plt.ylabel('ft/s')\n",
    "plt.tick_params(\n",
    "    axis='x',          # changes apply to the x-axis\n",
    "    which='both',      # both major and minor ticks are affected\n",
    "    bottom=False,      # ticks along the bottom edge are off\n",
    "    top=False,         # ticks along the top edge are off\n",
    "    labelbottom=False) \n",
    "plt.title('Snake')\n",
    "plt.legend()"
   ]
  },
  {
   "cell_type": "code",
   "execution_count": null,
   "metadata": {},
   "outputs": [],
   "source": [
    "poss_idx = game1['2017/10/17/HOUGSW/']['homeplayers']['StephenCurry']['poss'][3:-3]\n",
    "possNOTidx = np.logical_not(poss_idx)\n",
    "velo = game1['2017/10/17/HOUGSW/']['homeplayers']['StephenCurry']['smooth_velo_mag'][poss_idx]\n",
    "velo2 = game1['2017/10/17/HOUGSW/']['homeplayers']['StephenCurry']['smooth_velo_mag'][possNOTidx]\n",
    "plt.figure()\n",
    "plt.plot(velo,'r', label = 'average speed offense: %.2f' %np.nanmean(velo))\n",
    "plt.plot(velo2, 'b', label = 'average speed defense: %.2f' %np.nanmean(velo2))\n",
    "plt.ylabel('ft/s')\n",
    "plt.tick_params(\n",
    "    axis='x',          # changes apply to the x-axis\n",
    "    which='both',      # both major and minor ticks are affected\n",
    "    bottom=False,      # ticks along the bottom edge are off\n",
    "    top=False,         # ticks along the top edge are off\n",
    "    labelbottom=False) \n",
    "plt.title('Stephen Curry')\n",
    "plt.legend()"
   ]
  },
  {
   "cell_type": "code",
   "execution_count": null,
   "metadata": {},
   "outputs": [],
   "source": [
    "poss_idx = game1['2017/10/17/HOUGSW/']['homeplayers']['KlayThompson']['poss'][3:-3]\n",
    "possNOTidx = np.logical_not(poss_idx)\n",
    "velo = game1['2017/10/17/HOUGSW/']['homeplayers']['KlayThompson']['smooth_velo_mag'][poss_idx]\n",
    "velo2 = game1['2017/10/17/HOUGSW/']['homeplayers']['KlayThompson']['smooth_velo_mag'][possNOTidx]\n",
    "plt.figure()\n",
    "plt.plot(velo,'r', label = 'average speed offense: %.2f' %np.nanmean(velo))\n",
    "plt.plot(velo2, 'b', label = 'average speed defense: %.2f' %np.nanmean(velo2))\n",
    "plt.ylabel('ft/s')\n",
    "plt.tick_params(\n",
    "    axis='x',          # changes apply to the x-axis\n",
    "    which='both',      # both major and minor ticks are affected\n",
    "    bottom=False,      # ticks along the bottom edge are off\n",
    "    top=False,         # ticks along the top edge are off\n",
    "    labelbottom=False) \n",
    "plt.title('Klay Thompson')\n",
    "plt.legend()\n"
   ]
  },
  {
   "cell_type": "markdown",
   "metadata": {},
   "source": [
    "## Plot the Average Speed over the course of a game for a particular player on ***offense and defense***\n",
    "\n",
    "\n",
    "# WORK IN PROGRESS... NOT ACCURATE .... yet"
   ]
  },
  {
   "cell_type": "code",
   "execution_count": null,
   "metadata": {},
   "outputs": [],
   "source": [
    "team = 'homeplayers'\n",
    "player = 'StephenCurry'\n",
    "\n",
    "\n",
    "\n",
    "poss_idx = game1['2017/10/17/HOUGSW/'][team][player]['poss'][3:-3]\n",
    "possNOTidx = np.logical_not(poss_idx)\n",
    "velo = np.nancumsum(game1['2017/10/17/HOUGSW/'][team][player]['smooth_velo_mag'][poss_idx])\n",
    "velo/= np.linspace(1,len(velo),len(velo))\n",
    "velo2 = np.nancumsum(game1['2017/10/17/HOUGSW/'][team][player]['smooth_velo_mag'][possNOTidx])\n",
    "velo2 /= np.linspace(1,len(velo2),len(velo2))\n",
    "plt.figure()\n",
    "plt.plot(velo,'r', label = 'average speed offense: %.2f' % (velo[-1]))\n",
    "plt.plot(velo2, 'b', label = 'average speed defense: %.2f' %(velo2[-1]))\n",
    "plt.ylabel('ft/s')\n",
    "plt.tick_params(\n",
    "    axis='x',          # changes apply to the x-axis\n",
    "    which='both',      # both major and minor ticks are affected\n",
    "    bottom=False,      # ticks along the bottom edge are off\n",
    "    top=False,         # ticks along the top edge are off\n",
    "    labelbottom=False) \n",
    "plt.title(player)\n",
    "plt.legend()"
   ]
  }
 ],
 "metadata": {
  "kernelspec": {
   "display_name": "Python 3",
   "language": "python",
   "name": "python3"
  },
  "language_info": {
   "codemirror_mode": {
    "name": "ipython",
    "version": 3
   },
   "file_extension": ".py",
   "mimetype": "text/x-python",
   "name": "python",
   "nbconvert_exporter": "python",
   "pygments_lexer": "ipython3",
   "version": "3.6.4"
  }
 },
 "nbformat": 4,
 "nbformat_minor": 2
}
