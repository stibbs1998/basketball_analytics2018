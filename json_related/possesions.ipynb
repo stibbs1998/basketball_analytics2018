{
 "cells": [
  {
   "cell_type": "code",
   "execution_count": null,
   "metadata": {},
   "outputs": [],
   "source": [
    "import nba_functions as nba\n",
    "import json\n",
    "import numpy as np\n",
    "import matplotlib.pylab as plt\n",
    "import pandas as pd"
   ]
  },
  {
   "cell_type": "code",
   "execution_count": null,
   "metadata": {},
   "outputs": [],
   "source": [
    "game1 = json.load(open('warriors_game1.json'))"
   ]
  },
  {
   "cell_type": "code",
   "execution_count": null,
   "metadata": {},
   "outputs": [],
   "source": [
    "game1['2017/10/17/HOUGSW/']['homeplayers']['KevinDurant'].keys()"
   ]
  },
  {
   "cell_type": "code",
   "execution_count": null,
   "metadata": {},
   "outputs": [],
   "source": [
    "nba.ball_flagger(game1)\n",
    "nba.player_flagger(game1)\n",
    "nba.player_flagger2(game1)\n",
    "# nba.closest_to_ball(game1)\n",
    "#will display runtime warning due to logical_comparison with NaNs"
   ]
  },
  {
   "cell_type": "code",
   "execution_count": null,
   "metadata": {},
   "outputs": [],
   "source": [
    "# game1['2017/10/17/HOUGSW/']['homeplayers']['KevinDurant'].keys()\n",
    "# len(game1['2017/10/17/HOUGSW/']['homeplayers']['KevinDurant']['ind_poss']) , len(game1['2017/10/17/HOUGSW/']['homeplayers']['KevinDurant']['poss'])\n",
    "# np.sum(game1['2017/10/17/HOUGSW/']['homeplayers']['StephenCurry']['ind_poss'])*0.04/60"
   ]
  },
  {
   "cell_type": "code",
   "execution_count": null,
   "metadata": {
    "scrolled": true
   },
   "outputs": [],
   "source": [
    "# plt.figure()\n",
    "# x = len(game1['2017/10/17/HOUGSW/']['awayplayers'].keys())\n",
    "# for key in game1['2017/10/17/HOUGSW/']['awayplayers'].keys():\n",
    "    \n",
    "#     plt.plot(np.sum(game1['2017/10/17/HOUGSW/']['awayplayers'][key]['ind_poss'])*0.04/60,'o', label=key)\n",
    "    \n",
    "# plt.legend(loc='best')"
   ]
  },
  {
   "cell_type": "code",
   "execution_count": null,
   "metadata": {},
   "outputs": [],
   "source": [
    "nba.positional_smoothing(game1)\n",
    "nba.velo_accel_smoothing(game1)"
   ]
  },
  {
   "cell_type": "markdown",
   "metadata": {},
   "source": [
    "### Average Speed Off/Def"
   ]
  },
  {
   "cell_type": "code",
   "execution_count": null,
   "metadata": {},
   "outputs": [],
   "source": [
    "team = 'homeplayers'\n",
    "player = 'StephenCurry'\n",
    "\n",
    "%matplotlib notebook\n",
    "poss_idx = game1['2017/10/17/HOUGSW/'][team][player]['poss'][3:-3]\n",
    "possNOTidx = np.logical_not(poss_idx)\n",
    "velo = game1['2017/10/17/HOUGSW/'][team][player]['smooth_velo_mag'][poss_idx]\n",
    "velo2 = game1['2017/10/17/HOUGSW/'][team][player]['smooth_velo_mag'][possNOTidx]\n",
    "plt.figure()\n",
    "plt.plot(velo,'r', label = 'average speed offense: %.2f' %np.nanmean(velo))\n",
    "plt.plot(velo2, 'b', label = 'average speed defense: %.2f' %np.nanmean(velo2))\n",
    "plt.ylabel('ft/s')\n",
    "plt.tick_params(\n",
    "    axis='x',          # changes apply to the x-axis\n",
    "    which='both',      # both major and minor ticks are affected\n",
    "    bottom=False,      # ticks along the bottom edge are off\n",
    "    top=False,         # ticks along the top edge are off\n",
    "    labelbottom=False) \n",
    "plt.title('Snake')\n",
    "plt.legend()"
   ]
  },
  {
   "cell_type": "code",
   "execution_count": null,
   "metadata": {},
   "outputs": [],
   "source": [
    "team = 'homeplayers'\n",
    "player = 'DraymondGreen'\n",
    "\n",
    "\n",
    "\n",
    "poss_idx = game1['2017/10/17/HOUGSW/'][team][player]['poss'][3:-3]\n",
    "possNOTidx = np.logical_not(poss_idx)\n",
    "velo1 = game1['2017/10/17/HOUGSW/'][team][player]['smooth_velo_mag'][poss_idx]\n",
    "velo_off_avg = pd.Series(velo1).expanding(min_periods=1).mean()\n",
    "velo2 = game1['2017/10/17/HOUGSW/'][team][player]['smooth_velo_mag'][possNOTidx]\n",
    "velo_def_avg = pd.Series(velo2).expanding(min_periods=1).mean()\n",
    "plt.figure()\n",
    "\n",
    "x1 = np.linspace(1,5,len(velo_off_avg))\n",
    "x2 = np.linspace(1,5,len(velo_def_avg))\n",
    "\n",
    "\n",
    "\n",
    "plt.plot(x1, velo_off_avg, label = 'Average Velo Offense')\n",
    "plt.plot(x2, velo_def_avg, label = 'Average Velo Defense')\n",
    "# plt.tick_params(\n",
    "#     axis='x',          # changes apply to the x-axis\n",
    "#     which='both',      # both major and minor ticks are affected\n",
    "#     bottom=False,      # ticks along the bottom edge are off\n",
    "#     top=False,         # ticks along the top edge are off\n",
    "#     labelbottom=False) \n",
    "# plt.title(player)\n",
    "plt.xticks([1,2,3,4], (r'$1^{st}$', r'$2^{nd}$',r'$3^{rd}$',r'$4^{th}$'))\n",
    "plt.legend(loc = 'best')\n",
    "plt.ylabel('Velocity (ft/s)')\n",
    "plt.xlabel('Quarter')\n",
    "\n",
    "plt.title(player)\n",
    "plt.savefig('../plots/average_velo_off_def_donkey.png')\n",
    "plt.show()"
   ]
  },
  {
   "cell_type": "code",
   "execution_count": null,
   "metadata": {},
   "outputs": [],
   "source": [
    "team = 'homeplayers'\n",
    "player = 'DraymondGreen'\n",
    "poss_idx = game1['2017/10/17/HOUGSW/'][team][player]['poss'][3:-3]\n",
    "possNOTidx = ~poss_idx\n",
    "velo1 = game1['2017/10/17/HOUGSW/'][team][player]['smooth_velo_mag'][poss_idx]\n",
    "velo2 = game1['2017/10/17/HOUGSW/'][team][player]['smooth_velo_mag'][possNOTidx]\n",
    "a = np.copy(velo2)\n",
    "x1 = np.linspace(1,5,len(velo2))\n",
    "a2 = list(list(np.where(list(np.isnan(list(a)))))[0])\n",
    "opp_a2 = np.logical_not(list(np.isnan(list(a))))\n",
    "c = np.array_split(a,a2)\n",
    "###\n",
    "master = []\n",
    "for b in c:\n",
    "    if len(b) > 2:\n",
    "        avg = np.nanmean(b)\n",
    "        avg_line = np.linspace(avg,avg,len(b))\n",
    "        master.append(avg_line)\n",
    "    else:\n",
    "        master.append(b)\n",
    "### \n",
    "flat_list2 = [item for sublist in master for item in sublist]\n",
    "a = np.copy(velo1)\n",
    "x1 = np.linspace(1,5,len(velo1))\n",
    "a2 = list(list(np.where(list(np.isnan(list(a)))))[0])\n",
    "opp_a2 = np.logical_not(list(np.isnan(list(a))))\n",
    "c = np.array_split(a,a2)\n",
    "###\n",
    "master = []\n",
    "for b in c:\n",
    "    if len(b) > 2:\n",
    "        avg = np.nanmean(b)\n",
    "        avg_line = np.linspace(avg,avg,len(b))\n",
    "        master.append(avg_line)\n",
    "    else:\n",
    "        master.append(b)\n",
    "###       \n",
    "flat_list1 = [item for sublist in master for item in sublist]\n",
    "############\n",
    "\n",
    "\n",
    "plt.figure()\n",
    "x1 = np.linspace(1,5,len(flat_list1))\n",
    "x2 = np.linspace(1,5,len(flat_list2))\n",
    "plt.plot(time[poss_idx],flat_list1, 'b.', label = 'Offense')\n",
    "plt.xlabel('Quarter')\n",
    "\n",
    "plt.title(player)\n",
    "plt.ylabel('Velocity (ft/s)')\n",
    "plt.ylim(0,11)\n",
    "plt.xticks([len(poss_idx)/5,2*len(poss_idx)/5,3*len(poss_idx)/5,4*len(poss_idx)/5],[r'$1^{st}$', r'$2^{nd}$',r'$3^{rd}$',r'$4^{th}$'])\n",
    "\n",
    "\n",
    "plt.plot(time[possNOTidx],flat_list2, 'r.', label = 'Defense')\n",
    "plt.legend(loc='upper center')\n",
    "plt.savefig('../plots/DraymondGreenOffDefAvgVelo.png')\n",
    "plt.show()\n"
   ]
  },
  {
   "cell_type": "code",
   "execution_count": null,
   "metadata": {},
   "outputs": [],
   "source": []
  }
 ],
 "metadata": {
  "kernelspec": {
   "display_name": "Python 3",
   "language": "python",
   "name": "python3"
  },
  "language_info": {
   "codemirror_mode": {
    "name": "ipython",
    "version": 3
   },
   "file_extension": ".py",
   "mimetype": "text/x-python",
   "name": "python",
   "nbconvert_exporter": "python",
   "pygments_lexer": "ipython3",
   "version": "3.6.4"
  }
 },
 "nbformat": 4,
 "nbformat_minor": 2
}
