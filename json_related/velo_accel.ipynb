{
 "cells": [
  {
   "cell_type": "code",
   "execution_count": null,
   "metadata": {},
   "outputs": [],
   "source": [
    "import json\n",
    "import numpy as np\n",
    "import matplotlib.pylab as plt\n",
    "from imageio import imread\n",
    "import parser as prs\n",
    "import nba_functions as nba\n",
    "import matplotlib.cm as cm\n",
    "%matplotlib notebook"
   ]
  },
  {
   "cell_type": "code",
   "execution_count": null,
   "metadata": {},
   "outputs": [],
   "source": [
    "game1 = json.load(open('warriors_game1.json'))"
   ]
  },
  {
   "cell_type": "markdown",
   "metadata": {},
   "source": [
    "### Plot time over velocity"
   ]
  },
  {
   "cell_type": "code",
   "execution_count": null,
   "metadata": {},
   "outputs": [],
   "source": [
    "nba.positional_smoothing(game1)\n",
    "nba.velo_accel_smoothing(game1)\n",
    "nba.mass_warriors(game1)\n",
    "nba.mass_away(game1)\n",
    "nba.velo_accel(game1)\n",
    "nba.energy(game1)\n",
    "nba.ball_flagger(game1)\n",
    "nba.player_flagger(game1)\n",
    "nba.player_flagger2(game1)"
   ]
  },
  {
   "cell_type": "code",
   "execution_count": null,
   "metadata": {},
   "outputs": [],
   "source": [
    "velo = game1['2017/10/17/HOUGSW/']['homeplayers']['KevinDurant']['accel_mag']\n",
    "velo_sm = game1['2017/10/17/HOUGSW/']['homeplayers']['KevinDurant']['smooth_accel_mag']\n",
    "x = game1['2017/10/17/HOUGSW/']['homeplayers']['KevinDurant']['x']\n",
    "xsm = game1['2017/10/17/HOUGSW/']['homeplayers']['KevinDurant']['SmoothXYZ']['x']\n",
    "vt = np.linspace(0,len(velo),len(velo))\n",
    "vt2 = vt[:-4]\n",
    "%matplotlib notebook\n",
    "fig, (ax1, ax2) = plt.subplots(1,2,figsize = (10,5))\n",
    "a, b = (17000,17500)\n",
    "# ax1.set_xlim(a,b)\n",
    "# ax2.set_xlim(a,b)\n",
    "ax1.plot(vt,velo)\n",
    "ax2.plot(vt2,velo_sm)\n",
    "\n",
    "fig, (ax3, ax4) = plt.subplots(1,2,figsize = (10,5))\n",
    "ax3.plot(x)\n",
    "ax4.plot(xsm)\n",
    "# ax3.set_xlim(a,b)\n",
    "# ax4.set_xlim(a,b)"
   ]
  },
  {
   "cell_type": "code",
   "execution_count": null,
   "metadata": {
    "scrolled": false
   },
   "outputs": [],
   "source": [
    "%matplotlib notebook\n",
    "fig, (ax1,ax11) = plt.subplots(1,2,figsize=(10,5))\n",
    "ax2 = ax1.twiny()\n",
    "ax22 = ax11.twiny()\n",
    "labels = []\n",
    "for key in game1['2017/10/17/HOUGSW/']['homeplayers'].keys():\n",
    "    velo = game1['2017/10/17/HOUGSW/']['homeplayers'][key]['velo_mag']\n",
    "    velo_smooth = game1['2017/10/17/HOUGSW/']['homeplayers'][key]['smooth_velo_mag']\n",
    "    percents = []\n",
    "    percents11 = []\n",
    "    speeds = np.arange(100)\n",
    "    labels.append(key)\n",
    "    for speed in speeds:\n",
    "        percents11.append(np.nanpercentile(velo_smooth,speed))\n",
    "        percents.append(np.nanpercentile(velo,speed))\n",
    "    ax1.scatter(percents,abs(np.subtract(100,speeds)), s=np.nanmean(velo)/2)\n",
    "    ax2.scatter(np.multiply(0.3048,percents),abs(np.subtract(100,speeds)), c='')\n",
    "    \n",
    "    ax11.scatter(percents11,abs(np.subtract(100,speeds)), s=np.nanmean(velo_smooth)/2)\n",
    "    ax22.scatter(np.multiply(0.3048,percents11),abs(np.subtract(100,speeds)), c='')\n",
    "\n",
    "# ax1.set_xlim(-0.5,8)\n",
    "# ax2.set_xlim(-0.5,2.5)\n",
    "# ax11.set_xlim(-0.5,8)\n",
    "# ax22.set_xlim(-0.5,2.5)\n",
    "\n",
    "ax1.set_xlabel('Velocity (ft/s)')\n",
    "ax2.set_xlabel('Velocity (m/s)')\n",
    "ax11.set_xlabel('Velocity Smoothed (ft/s)')\n",
    "ax22.set_xlabel('Velocity Smoothed (m/s)')\n",
    "\n",
    "# ax1.legend(labels, loc='best')"
   ]
  },
  {
   "cell_type": "markdown",
   "metadata": {},
   "source": [
    "### Off/Def Plot over Velo"
   ]
  },
  {
   "cell_type": "code",
   "execution_count": null,
   "metadata": {},
   "outputs": [],
   "source": [
    "%matplotlib notebook\n",
    "team = 'awayplayers'\n",
    "player = 'TrevorAriza'\n",
    "\n",
    "poss_idx = game1['2017/10/17/HOUGSW/'][team][player]['poss'][3:-3]\n",
    "possNOTidx = np.logical_not(poss_idx)\n",
    "\n",
    "fig, ax11= plt.subplots(figsize=(8,6))\n",
    "\n",
    "# ax22 = ax11.twiny()\n",
    "labels = []\n",
    "\n",
    "velo_smooth_off = game1['2017/10/17/HOUGSW/'][team][player]['smooth_velo_mag'][poss_idx]\n",
    "velo_smooth_def = game1['2017/10/17/HOUGSW/'][team][player]['smooth_velo_mag'][possNOTidx]\n",
    "\n",
    "\n",
    "percents_off = []\n",
    "percents_def = []\n",
    "speeds = np.arange(100)\n",
    "labels=['Offense', 'Defense']\n",
    "for speed in speeds:\n",
    "    percents_off.append(np.nanpercentile(velo_smooth_off,speed))\n",
    "    percents_def.append(np.nanpercentile(velo_smooth_def,speed))\n",
    "\n",
    "\n",
    "ax11.scatter(percents_off,abs(np.subtract(100,speeds)), s=np.nanmean(velo_smooth_off)/2)\n",
    "# ax22.scatter(np.mu\"ltiply(0.3048,percents_off),abs(np.subtract(100,speeds)), c='')\n",
    "\n",
    "ax11.scatter(percents_def,abs(np.subtract(100,speeds)), s=np.nanmean(velo_smooth_def)/2)\n",
    "# ax22.scatter(np.multiply(0.3048,percents_def),abs(np.subtract(100,speeds)), c='')\n",
    "\n",
    "# ax1.set_xlim(-0.5,8)\n",
    "# ax2.set_xlim(-0.5,2.5)\n",
    "# ax11.set_xlim(-0.5,8)\n",
    "# ax22.set_xlim(-0.5,2.5)\n",
    "\n",
    "ax11.set_xlabel('Velocity Smoothed (ft/s)')\n",
    "# ax22.set_xlabel('Velocity Smoothed (m/s)')\n",
    "\n",
    "ax11.legend(labels, loc='best')\n",
    "ax11.set_title(player)\n",
    "plt.show()"
   ]
  },
  {
   "cell_type": "code",
   "execution_count": null,
   "metadata": {},
   "outputs": [],
   "source": []
  }
 ],
 "metadata": {
  "kernelspec": {
   "display_name": "Python 3",
   "language": "python",
   "name": "python3"
  },
  "language_info": {
   "codemirror_mode": {
    "name": "ipython",
    "version": 3
   },
   "file_extension": ".py",
   "mimetype": "text/x-python",
   "name": "python",
   "nbconvert_exporter": "python",
   "pygments_lexer": "ipython3",
   "version": "3.6.4"
  }
 },
 "nbformat": 4,
 "nbformat_minor": 2
}
