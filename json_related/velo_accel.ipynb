{
 "cells": [
  {
   "cell_type": "code",
   "execution_count": null,
   "metadata": {},
   "outputs": [],
   "source": [
    "import json\n",
    "import numpy as np\n",
    "import matplotlib.pylab as plt\n",
    "from imageio import imread\n",
    "import parser as prs\n",
    "import nba_functions as nba\n",
    "import matplotlib.cm as cm\n",
    "%matplotlib notebook"
   ]
  },
  {
   "cell_type": "code",
   "execution_count": null,
   "metadata": {},
   "outputs": [],
   "source": [
    "game1 = json.load(open('warriors_game1.json'))"
   ]
  },
  {
   "cell_type": "markdown",
   "metadata": {},
   "source": [
    "### Plot time over velocity"
   ]
  },
  {
   "cell_type": "code",
   "execution_count": null,
   "metadata": {},
   "outputs": [],
   "source": [
    "nba.positional_smoothing(game1)\n",
    "nba.velo_accel_smoothing(game1)\n",
    "nba.mass_warriors(game1)\n",
    "nba.mass_away(game1)\n",
    "nba.velo_accel(game1)\n",
    "nba.energy(game1)"
   ]
  },
  {
   "cell_type": "code",
   "execution_count": null,
   "metadata": {},
   "outputs": [],
   "source": [
    "velo = game1['2017/10/17/HOUGSW/']['homeplayers']['KevinDurant']['accel_mag']\n",
    "velo_sm = game1['2017/10/17/HOUGSW/']['homeplayers']['KevinDurant']['smooth_accel_mag']\n",
    "x = game1['2017/10/17/HOUGSW/']['homeplayers']['KevinDurant']['x']\n",
    "xsm = game1['2017/10/17/HOUGSW/']['homeplayers']['KevinDurant']['SmoothXYZ']['x']\n",
    "vt = np.linspace(0,len(velo),len(velo))\n",
    "vt2 = vt[:-4]\n",
    "%matplotlib notebook\n",
    "fig, (ax1, ax2) = plt.subplots(1,2,figsize = (10,5))\n",
    "a, b = (17000,17500)\n",
    "# ax1.set_xlim(a,b)\n",
    "# ax2.set_xlim(a,b)\n",
    "ax1.plot(vt,velo)\n",
    "ax2.plot(vt2,velo_sm)\n",
    "\n",
    "fig, (ax3, ax4) = plt.subplots(1,2,figsize = (10,5))\n",
    "ax3.plot(x)\n",
    "ax4.plot(xsm)\n",
    "# ax3.set_xlim(a,b)\n",
    "# ax4.set_xlim(a,b)"
   ]
  },
  {
   "cell_type": "code",
   "execution_count": null,
   "metadata": {
    "scrolled": false
   },
   "outputs": [],
   "source": [
    "%matplotlib notebook\n",
    "fig, (ax1,ax11) = plt.subplots(1,2,figsize=(10,5))\n",
    "ax2 = ax1.twiny()\n",
    "ax22 = ax11.twiny()\n",
    "labels = []\n",
    "for key in game1['2017/10/17/HOUGSW/']['homeplayers'].keys():\n",
    "    velo = game1['2017/10/17/HOUGSW/']['homeplayers'][key]['velo_mag']\n",
    "    velo_smooth = game1['2017/10/17/HOUGSW/']['homeplayers'][key]['smooth_velo_mag']\n",
    "    percents = []\n",
    "    percents11 = []\n",
    "    speeds = np.arange(100)\n",
    "    labels.append(key)\n",
    "    for speed in speeds:\n",
    "        percents11.append(np.nanpercentile(velo_smooth,speed))\n",
    "        percents.append(np.nanpercentile(velo,speed))\n",
    "    ax1.scatter(percents,abs(np.subtract(100,speeds)), s=np.nanmean(velo)/2)\n",
    "    ax2.scatter(np.multiply(0.3048,percents),abs(np.subtract(100,speeds)), c='')\n",
    "    \n",
    "    ax11.scatter(percents11,abs(np.subtract(100,speeds)), s=np.nanmean(velo_smooth)/2)\n",
    "    ax22.scatter(np.multiply(0.3048,percents11),abs(np.subtract(100,speeds)), c='')\n",
    "\n",
    "# ax1.set_xlim(-0.5,8)\n",
    "# ax2.set_xlim(-0.5,2.5)\n",
    "# ax11.set_xlim(-0.5,8)\n",
    "# ax22.set_xlim(-0.5,2.5)\n",
    "\n",
    "ax1.set_xlabel('Velocity (ft/s)')\n",
    "ax2.set_xlabel('Velocity (m/s)')\n",
    "ax11.set_xlabel('Velocity Smoothed (ft/s)')\n",
    "ax22.set_xlabel('Velocity Smoothed (m/s)')\n",
    "\n",
    "# ax1.legend(labels, loc='best')"
   ]
  },
  {
   "cell_type": "code",
   "execution_count": null,
   "metadata": {},
   "outputs": [],
   "source": [
    "velo = game1['2017/10/17/HOUGSW/']['homeplayers']['ZazaPachulia']['velo']\n",
    "acc = game1['2017/10/17/HOUGSW/']['homeplayers']['ZazaPachulia']['accel']\n",
    "\n",
    "work = game1['2017/10/17/HOUGSW/']['homeplayers']['ZazaPachulia']['work']\n",
    "\n",
    "norm_velo = np.sqrt(np.square(acc[0])+np.square(acc[1]))\n",
    "# for i in range(250,300):\n",
    "#     print(velo[0][i],velo[1][i])"
   ]
  },
  {
   "cell_type": "code",
   "execution_count": null,
   "metadata": {},
   "outputs": [],
   "source": [
    "xsm = game1['2017/10/17/HOUGSW/']['homeplayers']['KevinDurant']['SmoothXYZ']['x']\n",
    "x = np.array(game1['2017/10/17/HOUGSW/']['homeplayers']['KevinDurant']['x'])\n",
    "print(max(x))\n",
    "plt.figure(figsize = (10,8))\n",
    "plt.plot(x,'r-.', markersize=0.4)\n",
    "plt.plot(x,'b.',markersize=0.4)\n",
    "# plt.plot(xsm,'b.')"
   ]
  },
  {
   "cell_type": "code",
   "execution_count": null,
   "metadata": {},
   "outputs": [],
   "source": [
    "np.nanmax(x[1:]-x[:-1]), np.nanmax(xsm[1:]-xsm[:-1])"
   ]
  }
 ],
 "metadata": {
  "kernelspec": {
   "display_name": "Python 3",
   "language": "python",
   "name": "python3"
  },
  "language_info": {
   "codemirror_mode": {
    "name": "ipython",
    "version": 3
   },
   "file_extension": ".py",
   "mimetype": "text/x-python",
   "name": "python",
   "nbconvert_exporter": "python",
   "pygments_lexer": "ipython3",
   "version": "3.6.4"
  }
 },
 "nbformat": 4,
 "nbformat_minor": 2
}
