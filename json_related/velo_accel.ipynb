{
 "cells": [
  {
   "cell_type": "code",
   "execution_count": null,
   "metadata": {},
   "outputs": [],
   "source": [
    "import json\n",
    "import numpy as np\n",
    "import matplotlib.pylab as plt\n",
    "from imageio import imread\n",
    "import parser as prs\n",
    "import nba_functions as nba\n",
    "import matplotlib.cm as cm\n",
    "%matplotlib notebook"
   ]
  },
  {
   "cell_type": "code",
   "execution_count": null,
   "metadata": {},
   "outputs": [],
   "source": [
    "game1 = json.load(open('warriors_game1.json'))"
   ]
  },
  {
   "cell_type": "markdown",
   "metadata": {},
   "source": [
    "### Plot time over velocity"
   ]
  },
  {
   "cell_type": "code",
   "execution_count": null,
   "metadata": {},
   "outputs": [],
   "source": [
    "nba.velo(game1)"
   ]
  },
  {
   "cell_type": "code",
   "execution_count": null,
   "metadata": {},
   "outputs": [],
   "source": [
    "fig, ax1 = plt.subplots()\n",
    "ax2 = ax1.twiny()\n",
    "labels = []\n",
    "for key in game1['2017/10/17/HOUGSW/']['homeplayers'].keys():\n",
    "    velo = game1['2017/10/17/HOUGSW/']['homeplayers'][key]['velo']\n",
    "    percents = []\n",
    "    speeds = np.arange(100)\n",
    "    labels.append(key)\n",
    "    for speed in speeds:\n",
    "        \n",
    "        percents.append(np.nanpercentile(velo,speed))\n",
    "    ax1.scatter(percents,abs(np.subtract(100,speeds)), s=np.nanmean(velo)/2)\n",
    "    ax2.scatter(np.multiply(0.3048,percents),abs(np.subtract(100,speeds)), c='')\n",
    "plt.legend(loc = 'best')\n",
    "ax1.set_xlabel('Velocity (ft/s)')\n",
    "ax2.set_xlabel('Velocity (m/s)')\n",
    "\n",
    "ax1.legend(labels, loc='best')"
   ]
  }
 ],
 "metadata": {
  "kernelspec": {
   "display_name": "Python 3",
   "language": "python",
   "name": "python3"
  },
  "language_info": {
   "codemirror_mode": {
    "name": "ipython",
    "version": 3
   },
   "file_extension": ".py",
   "mimetype": "text/x-python",
   "name": "python",
   "nbconvert_exporter": "python",
   "pygments_lexer": "ipython3",
   "version": "3.5.2"
  }
 },
 "nbformat": 4,
 "nbformat_minor": 2
}
