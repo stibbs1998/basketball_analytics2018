{
 "cells": [
  {
   "cell_type": "code",
   "execution_count": null,
   "metadata": {},
   "outputs": [],
   "source": [
    "csv_data = np.loadtxt('warriors_players.csv',delimiter=',',dtype=str,skiprows=1,unpack=True)\n",
    "last_names = csv_data[0]\n",
    "first_names = csv_data[1]\n",
    "\n",
    "player_weights = csv_data[5]\n",
    "\n",
    "player_information = {}\n",
    "player_information['names'] = []\n",
    "for i in range(0,len(last_names)):\n",
    "    full = str(first_names[i][1:-1] + last_names[i][1:])\n",
    "    player_information['names'].append(full)\n",
    "    if full in warriors_data['2017/10/17/HOUGSW/']['homeplayers'].keys():\n",
    "        warriors_data['2017/10/17/HOUGSW/']['homeplayers'][full]['mass'] = float(player_weights[i][0:3])*1/2.2"
   ]
  },
  {
   "cell_type": "code",
   "execution_count": null,
   "metadata": {},
   "outputs": [],
   "source": [
    "for player in warriors_data['2017/10/17/HOUGSW/']['homeplayers'].keys():\n",
    "    half_mass, v = 0.5*warriors_data['2017/10/17/HOUGSW/']['homeplayers'][player]['mass'], warriors_data['2017/10/17/HOUGSW/']['homeplayers'][player]['avg_velo']\n",
    "    v2 = np.multiply(v,v)\n",
    "    Kinetic_Energy = np.multiply(half_mass,v2)\n",
    "    warriors_data['2017/10/17/HOUGSW/']['homeplayers'][player]['avg_KE'] = Kinetic_Energy"
   ]
  },
  {
   "cell_type": "code",
   "execution_count": null,
   "metadata": {},
   "outputs": [],
   "source": [
    "velo = []\n",
    "ke = []\n",
    "for player in warriors_data['2017/10/17/HOUGSW/']['homeplayers'].keys():\n",
    "    velo.append(warriors_data['2017/10/17/HOUGSW/']['homeplayers'][player]['avg_velo'])\n",
    "    ke.append(warriors_data['2017/10/17/HOUGSW/']['homeplayers'][player]['avg_KE'])"
   ]
  },
  {
   "cell_type": "code",
   "execution_count": null,
   "metadata": {},
   "outputs": [],
   "source": [
    "n = len(velo)\n",
    "colors = np.random.randn(n)\n",
    "x = np.linspace(0,n,n)\n",
    "plt.figure()\n",
    "plt.scatter(x,velo,c=colors,s=ke)\n",
    "plt.title('Avg_Velo related to Avg_KE')"
   ]
  },
  {
   "cell_type": "markdown",
   "metadata": {},
   "source": [
    "## Below is important in understanding how to make a 'time indexer'"
   ]
  },
  {
   "cell_type": "code",
   "execution_count": null,
   "metadata": {},
   "outputs": [],
   "source": [
    "import numpy as np\n",
    "import matplotlib.pyplot as plt\n",
    "\n",
    "xs = np.arange(8)\n",
    "series1 = np.array([1, 3, 3, None, None, 5, 8, 9]).astype(np.double)\n",
    "s1mask = np.isfinite(series1)\n",
    "series2 = np.array([2, None, 5, None, 4, None, 3, 2]).astype(np.double)\n",
    "s2mask = np.isfinite(series2)\n",
    "\n",
    "plt.figure()\n",
    "\n",
    "plt.plot(xs[s1mask], series1[s1mask], linestyle='-', marker='o')\n",
    "plt.plot(xs[s2mask], series2[s2mask], linestyle='-', marker='o')\n",
    "\n",
    "plt.show()"
   ]
  },
  {
   "cell_type": "markdown",
   "metadata": {},
   "source": [
    "### regarding time_indexing"
   ]
  },
  {
   "cell_type": "code",
   "execution_count": 1,
   "metadata": {},
   "outputs": [],
   "source": [
    "import nba_functions as nba\n",
    "\n",
    "tracking = ['2017101710_nba-gsw_TRACKING.jsonl']\n",
    "box = ['2017101710_nba-gsw_BOX.json']"
   ]
  },
  {
   "cell_type": "code",
   "execution_count": 2,
   "metadata": {},
   "outputs": [
    {
     "name": "stdout",
     "output_type": "stream",
     "text": [
      "Reading in data from 2017101710_nba-gsw_TRACKING.jsonl ...\n",
      "Assigning data to players...\n"
     ]
    }
   ],
   "source": [
    "data, new_data = nba.court_bool(tracking,box)"
   ]
  },
  {
   "cell_type": "code",
   "execution_count": 3,
   "metadata": {},
   "outputs": [
    {
     "data": {
      "text/plain": [
       "True"
      ]
     },
     "execution_count": 3,
     "metadata": {},
     "output_type": "execute_result"
    }
   ],
   "source": [
    "len(data['homeplayers'])/5== len(new_data['gameclock'])"
   ]
  }
 ],
 "metadata": {
  "kernelspec": {
   "display_name": "Python 2",
   "language": "python",
   "name": "python2"
  },
  "language_info": {
   "codemirror_mode": {
    "name": "ipython",
    "version": 2
   },
   "file_extension": ".py",
   "mimetype": "text/x-python",
   "name": "python",
   "nbconvert_exporter": "python",
   "pygments_lexer": "ipython2",
   "version": "2.7.12"
  }
 },
 "nbformat": 4,
 "nbformat_minor": 2
}
